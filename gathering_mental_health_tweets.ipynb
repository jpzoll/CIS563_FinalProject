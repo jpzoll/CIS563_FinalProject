{
 "cells": [
  {
   "cell_type": "code",
   "execution_count": 21,
   "id": "161b5084",
   "metadata": {},
   "outputs": [],
   "source": [
    "import tweepy\n",
    "import configparser"
   ]
  },
  {
   "cell_type": "markdown",
   "id": "83a1c208",
   "metadata": {},
   "source": [
    "# Authenticate Twitter"
   ]
  },
  {
   "cell_type": "code",
   "execution_count": 22,
   "id": "43569972",
   "metadata": {},
   "outputs": [],
   "source": [
    "import tweepy\n",
    "import configparser\n",
    "import pandas as pd\n",
    "\n",
    "config = configparser.ConfigParser()\n",
    "\n",
    "config.read('config.ini')\n",
    "\n",
    "api_key = config['twitter']['api_key']\n",
    "api_key_secret = config['twitter']['api_key_secret']\n",
    "access_token = config['twitter']['access_token']\n",
    "access_token_secret = config['twitter']['access_token_secret']\n",
    "\n",
    "auth = tweepy.OAuthHandler(api_key, api_key_secret)\n",
    "auth.set_access_token(access_token, access_token_secret)\n",
    "twitter = tweepy.API(auth, wait_on_rate_limit=True)"
   ]
  },
  {
   "cell_type": "markdown",
   "id": "67c558bf",
   "metadata": {},
   "source": [
    "# Gather Tweets"
   ]
  },
  {
   "cell_type": "code",
   "execution_count": 6,
   "id": "934b3744",
   "metadata": {},
   "outputs": [],
   "source": [
    "import snscrape.modules.twitter as sntwitter"
   ]
  },
  {
   "cell_type": "code",
   "execution_count": 33,
   "id": "51fcaf09",
   "metadata": {},
   "outputs": [],
   "source": [
    "tweets = []\n",
    "limit = 10000\n",
    "query = '#mentalhealth'\n",
    "for tweet in sntwitter.TwitterSearchScraper(query).get_items():\n",
    "    if len(tweets) >= limit:\n",
    "        break\n",
    "    else:\n",
    "        tweets.append(tweet.content)"
   ]
  },
  {
   "cell_type": "code",
   "execution_count": 41,
   "id": "c0247d99",
   "metadata": {},
   "outputs": [],
   "source": [
    "tweets_dict = {'text': [tweet for tweet in tweets]}"
   ]
  },
  {
   "cell_type": "code",
   "execution_count": 42,
   "id": "7307a093",
   "metadata": {
    "scrolled": true
   },
   "outputs": [
    {
     "data": {
      "text/html": [
       "<div>\n",
       "<style scoped>\n",
       "    .dataframe tbody tr th:only-of-type {\n",
       "        vertical-align: middle;\n",
       "    }\n",
       "\n",
       "    .dataframe tbody tr th {\n",
       "        vertical-align: top;\n",
       "    }\n",
       "\n",
       "    .dataframe thead th {\n",
       "        text-align: right;\n",
       "    }\n",
       "</style>\n",
       "<table border=\"1\" class=\"dataframe\">\n",
       "  <thead>\n",
       "    <tr style=\"text-align: right;\">\n",
       "      <th></th>\n",
       "      <th>text</th>\n",
       "    </tr>\n",
       "  </thead>\n",
       "  <tbody>\n",
       "    <tr>\n",
       "      <th>0</th>\n",
       "      <td>A way for people to place problems in better p...</td>\n",
       "    </tr>\n",
       "    <tr>\n",
       "      <th>1</th>\n",
       "      <td>Are you ready to unlock your full potential an...</td>\n",
       "    </tr>\n",
       "    <tr>\n",
       "      <th>2</th>\n",
       "      <td>Setting yearly short term goals and meeting th...</td>\n",
       "    </tr>\n",
       "    <tr>\n",
       "      <th>3</th>\n",
       "      <td>Sometimes you have to ask yourself is it worth...</td>\n",
       "    </tr>\n",
       "    <tr>\n",
       "      <th>4</th>\n",
       "      <td>Having a rough day? #BeKind to your mind.. #Jo...</td>\n",
       "    </tr>\n",
       "    <tr>\n",
       "      <th>...</th>\n",
       "      <td>...</td>\n",
       "    </tr>\n",
       "    <tr>\n",
       "      <th>9995</th>\n",
       "      <td>It has cost me too much time on #MentalHealth ...</td>\n",
       "    </tr>\n",
       "    <tr>\n",
       "      <th>9996</th>\n",
       "      <td>Self-care can include myriad practices that yo...</td>\n",
       "    </tr>\n",
       "    <tr>\n",
       "      <th>9997</th>\n",
       "      <td>Don’t just sit around waiting for that moment ...</td>\n",
       "    </tr>\n",
       "    <tr>\n",
       "      <th>9998</th>\n",
       "      <td>Studies show that many people living with #men...</td>\n",
       "    </tr>\n",
       "    <tr>\n",
       "      <th>9999</th>\n",
       "      <td>Studies show that many people living with #men...</td>\n",
       "    </tr>\n",
       "  </tbody>\n",
       "</table>\n",
       "<p>10000 rows × 1 columns</p>\n",
       "</div>"
      ],
      "text/plain": [
       "                                                   text\n",
       "0     A way for people to place problems in better p...\n",
       "1     Are you ready to unlock your full potential an...\n",
       "2     Setting yearly short term goals and meeting th...\n",
       "3     Sometimes you have to ask yourself is it worth...\n",
       "4     Having a rough day? #BeKind to your mind.. #Jo...\n",
       "...                                                 ...\n",
       "9995  It has cost me too much time on #MentalHealth ...\n",
       "9996  Self-care can include myriad practices that yo...\n",
       "9997  Don’t just sit around waiting for that moment ...\n",
       "9998  Studies show that many people living with #men...\n",
       "9999  Studies show that many people living with #men...\n",
       "\n",
       "[10000 rows x 1 columns]"
      ]
     },
     "execution_count": 42,
     "metadata": {},
     "output_type": "execute_result"
    }
   ],
   "source": [
    "df = pd.DataFrame(tweets_dict)\n",
    "df"
   ]
  },
  {
   "cell_type": "code",
   "execution_count": 51,
   "id": "02a40ffc",
   "metadata": {
    "scrolled": true
   },
   "outputs": [
    {
     "data": {
      "text/html": [
       "<div>\n",
       "<style scoped>\n",
       "    .dataframe tbody tr th:only-of-type {\n",
       "        vertical-align: middle;\n",
       "    }\n",
       "\n",
       "    .dataframe tbody tr th {\n",
       "        vertical-align: top;\n",
       "    }\n",
       "\n",
       "    .dataframe thead th {\n",
       "        text-align: right;\n",
       "    }\n",
       "</style>\n",
       "<table border=\"1\" class=\"dataframe\">\n",
       "  <thead>\n",
       "    <tr style=\"text-align: right;\">\n",
       "      <th></th>\n",
       "      <th>text</th>\n",
       "    </tr>\n",
       "  </thead>\n",
       "  <tbody>\n",
       "    <tr>\n",
       "      <th>0</th>\n",
       "      <td>A way for people to place problems in better p...</td>\n",
       "    </tr>\n",
       "    <tr>\n",
       "      <th>1</th>\n",
       "      <td>Are you ready to unlock your full potential an...</td>\n",
       "    </tr>\n",
       "    <tr>\n",
       "      <th>2</th>\n",
       "      <td>Setting yearly short term goals and meeting th...</td>\n",
       "    </tr>\n",
       "    <tr>\n",
       "      <th>3</th>\n",
       "      <td>Sometimes you have to ask yourself is it worth...</td>\n",
       "    </tr>\n",
       "    <tr>\n",
       "      <th>4</th>\n",
       "      <td>Having a rough day? #BeKind to your mind.. #Jo...</td>\n",
       "    </tr>\n",
       "    <tr>\n",
       "      <th>...</th>\n",
       "      <td>...</td>\n",
       "    </tr>\n",
       "    <tr>\n",
       "      <th>9995</th>\n",
       "      <td>It has cost me too much time on #MentalHealth ...</td>\n",
       "    </tr>\n",
       "    <tr>\n",
       "      <th>9996</th>\n",
       "      <td>Self-care can include myriad practices that yo...</td>\n",
       "    </tr>\n",
       "    <tr>\n",
       "      <th>9997</th>\n",
       "      <td>Don’t just sit around waiting for that moment ...</td>\n",
       "    </tr>\n",
       "    <tr>\n",
       "      <th>9998</th>\n",
       "      <td>Studies show that many people living with #men...</td>\n",
       "    </tr>\n",
       "    <tr>\n",
       "      <th>9999</th>\n",
       "      <td>Studies show that many people living with #men...</td>\n",
       "    </tr>\n",
       "  </tbody>\n",
       "</table>\n",
       "<p>10000 rows × 1 columns</p>\n",
       "</div>"
      ],
      "text/plain": [
       "                                                   text\n",
       "0     A way for people to place problems in better p...\n",
       "1     Are you ready to unlock your full potential an...\n",
       "2     Setting yearly short term goals and meeting th...\n",
       "3     Sometimes you have to ask yourself is it worth...\n",
       "4     Having a rough day? #BeKind to your mind.. #Jo...\n",
       "...                                                 ...\n",
       "9995  It has cost me too much time on #MentalHealth ...\n",
       "9996  Self-care can include myriad practices that yo...\n",
       "9997  Don’t just sit around waiting for that moment ...\n",
       "9998  Studies show that many people living with #men...\n",
       "9999  Studies show that many people living with #men...\n",
       "\n",
       "[10000 rows x 1 columns]"
      ]
     },
     "execution_count": 51,
     "metadata": {},
     "output_type": "execute_result"
    }
   ],
   "source": [
    "df['text'] = df['text'].fillna('')\n",
    "df"
   ]
  },
  {
   "cell_type": "code",
   "execution_count": 52,
   "id": "8a864b20",
   "metadata": {},
   "outputs": [],
   "source": [
    "#pd.DataFrame.to_csv(df, 'data/mental_health_tweets.csv')\n",
    "pd.DataFrame.to_csv(df, 'data/mental_health_tweets2.csv')"
   ]
  },
  {
   "cell_type": "markdown",
   "id": "f684721f",
   "metadata": {},
   "source": [
    "# Notes"
   ]
  },
  {
   "cell_type": "code",
   "execution_count": null,
   "id": "186435b5",
   "metadata": {},
   "outputs": [],
   "source": [
    "query = tweepy.Cursor(twitter.search_tweets, q='#mentalhealth').items(5)\n",
    "tweets = [{'text': tweet.text} for tweet in query]\n",
    "df = pd.DataFrame(tweets)"
   ]
  },
  {
   "cell_type": "code",
   "execution_count": 23,
   "id": "c400aa26",
   "metadata": {
    "scrolled": true
   },
   "outputs": [],
   "source": [
    "#num_tweets = 5500\n",
    "#query = tweepy.Cursor(twitter.search, q='#mentalhealth').items(5)\n",
    "tweets = [{'text': tweet} for tweet in tweets]\n",
    "df = pd.DataFrame(tweets)"
   ]
  },
  {
   "cell_type": "code",
   "execution_count": null,
   "id": "82fd84e3",
   "metadata": {},
   "outputs": [],
   "source": []
  }
 ],
 "metadata": {
  "kernelspec": {
   "display_name": "Python 3 (ipykernel)",
   "language": "python",
   "name": "python3"
  },
  "language_info": {
   "codemirror_mode": {
    "name": "ipython",
    "version": 3
   },
   "file_extension": ".py",
   "mimetype": "text/x-python",
   "name": "python",
   "nbconvert_exporter": "python",
   "pygments_lexer": "ipython3",
   "version": "3.9.13"
  }
 },
 "nbformat": 4,
 "nbformat_minor": 5
}
