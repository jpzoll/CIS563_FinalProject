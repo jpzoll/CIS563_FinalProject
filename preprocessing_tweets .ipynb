{
 "cells": [
  {
   "cell_type": "markdown",
   "id": "1f526a95",
   "metadata": {},
   "source": [
    "# Preprocessing & Flagging Tweets as either\n",
    "1. Meditation\n",
    "2. Therapy\n",
    "3. Exercise"
   ]
  },
  {
   "cell_type": "code",
   "execution_count": 1,
   "id": "f4a56f4b",
   "metadata": {},
   "outputs": [],
   "source": [
    "import tweepy as tw\n",
    "import numpy as np\n",
    "import pandas as pd \n",
    "import matplotlib.pyplot as plt "
   ]
  },
  {
   "cell_type": "code",
   "execution_count": 2,
   "id": "66b68b57",
   "metadata": {},
   "outputs": [],
   "source": [
    "# pip install tweepy\n",
    "# pip install textblob"
   ]
  },
  {
   "cell_type": "code",
   "execution_count": 3,
   "id": "019b4917",
   "metadata": {},
   "outputs": [],
   "source": [
    "df=pd.read_csv(\"data/mental_health_tweets2.csv\")"
   ]
  },
  {
   "cell_type": "code",
   "execution_count": 4,
   "id": "785cb72d",
   "metadata": {},
   "outputs": [
    {
     "data": {
      "text/html": [
       "<div>\n",
       "<style scoped>\n",
       "    .dataframe tbody tr th:only-of-type {\n",
       "        vertical-align: middle;\n",
       "    }\n",
       "\n",
       "    .dataframe tbody tr th {\n",
       "        vertical-align: top;\n",
       "    }\n",
       "\n",
       "    .dataframe thead th {\n",
       "        text-align: right;\n",
       "    }\n",
       "</style>\n",
       "<table border=\"1\" class=\"dataframe\">\n",
       "  <thead>\n",
       "    <tr style=\"text-align: right;\">\n",
       "      <th></th>\n",
       "      <th>Unnamed: 0</th>\n",
       "      <th>text</th>\n",
       "    </tr>\n",
       "  </thead>\n",
       "  <tbody>\n",
       "    <tr>\n",
       "      <th>0</th>\n",
       "      <td>0</td>\n",
       "      <td>A way for people to place problems in better p...</td>\n",
       "    </tr>\n",
       "    <tr>\n",
       "      <th>1</th>\n",
       "      <td>1</td>\n",
       "      <td>Are you ready to unlock your full potential an...</td>\n",
       "    </tr>\n",
       "    <tr>\n",
       "      <th>2</th>\n",
       "      <td>2</td>\n",
       "      <td>Setting yearly short term goals and meeting th...</td>\n",
       "    </tr>\n",
       "    <tr>\n",
       "      <th>3</th>\n",
       "      <td>3</td>\n",
       "      <td>Sometimes you have to ask yourself is it worth...</td>\n",
       "    </tr>\n",
       "    <tr>\n",
       "      <th>4</th>\n",
       "      <td>4</td>\n",
       "      <td>Having a rough day? #BeKind to your mind.. #Jo...</td>\n",
       "    </tr>\n",
       "  </tbody>\n",
       "</table>\n",
       "</div>"
      ],
      "text/plain": [
       "   Unnamed: 0                                               text\n",
       "0           0  A way for people to place problems in better p...\n",
       "1           1  Are you ready to unlock your full potential an...\n",
       "2           2  Setting yearly short term goals and meeting th...\n",
       "3           3  Sometimes you have to ask yourself is it worth...\n",
       "4           4  Having a rough day? #BeKind to your mind.. #Jo..."
      ]
     },
     "execution_count": 4,
     "metadata": {},
     "output_type": "execute_result"
    }
   ],
   "source": [
    "df.head()"
   ]
  },
  {
   "cell_type": "code",
   "execution_count": 274,
   "id": "90be7bc2",
   "metadata": {},
   "outputs": [],
   "source": [
    "meditation_refs=[\"yoga\",\"meditation\",\"meditate\",\"breathwork\",\"yoga\", \"mindfulness\", \"mindful\", \"mantra\", \"wim hoff\", \"wimhoff\" \"pranayama\", \"vipassana\", \"samatha\", \"headspace\", \"insight timer\"]\n",
    "therapy_refs=[\"therapy\", \"counseling\", \"psychotherapy\", \"therapist\", \"dialectical behavioral\", \"cognitive behavioral\"]\n",
    "workout_refs =[\"workout\",\"exercise\",\"exercising\",\"weight-training\", \"weight training\", \"running\", \"lifting\", \"cardio\",\"fitness\", \"marathon\"]"
   ]
  },
  {
   "cell_type": "code",
   "execution_count": 275,
   "id": "de39507d",
   "metadata": {},
   "outputs": [],
   "source": [
    "def identify_subject(tweet,refs):\n",
    "    flag = 0\n",
    "    for ref in refs:\n",
    "        if tweet.find(ref) !=-1:\n",
    "            flag = 1\n",
    "    return flag\n",
    "df[\"meditation\"]= df[\"text\"].apply(lambda x: identify_subject(x.lower(), meditation_refs))\n",
    "df[\"therapy\"]= df[\"text\"].apply(lambda x: identify_subject(x.lower(), therapy_refs))\n",
    "df[\"workout\"]= df[\"text\"].apply(lambda x: identify_subject(x.lower(), workout_refs))"
   ]
  },
  {
   "cell_type": "code",
   "execution_count": 276,
   "id": "53907539",
   "metadata": {
    "scrolled": true
   },
   "outputs": [
    {
     "data": {
      "text/html": [
       "<div>\n",
       "<style scoped>\n",
       "    .dataframe tbody tr th:only-of-type {\n",
       "        vertical-align: middle;\n",
       "    }\n",
       "\n",
       "    .dataframe tbody tr th {\n",
       "        vertical-align: top;\n",
       "    }\n",
       "\n",
       "    .dataframe thead th {\n",
       "        text-align: right;\n",
       "    }\n",
       "</style>\n",
       "<table border=\"1\" class=\"dataframe\">\n",
       "  <thead>\n",
       "    <tr style=\"text-align: right;\">\n",
       "      <th></th>\n",
       "      <th>Unnamed: 0</th>\n",
       "      <th>text</th>\n",
       "      <th>meditation</th>\n",
       "      <th>therapy</th>\n",
       "      <th>workout</th>\n",
       "      <th>Processed_tweet</th>\n",
       "    </tr>\n",
       "  </thead>\n",
       "  <tbody>\n",
       "    <tr>\n",
       "      <th>0</th>\n",
       "      <td>0</td>\n",
       "      <td>A way for people to place problems in better p...</td>\n",
       "      <td>0</td>\n",
       "      <td>0</td>\n",
       "      <td>0</td>\n",
       "      <td>A way people place problem better perspective ...</td>\n",
       "    </tr>\n",
       "    <tr>\n",
       "      <th>1</th>\n",
       "      <td>1</td>\n",
       "      <td>Are you ready to unlock your full potential an...</td>\n",
       "      <td>0</td>\n",
       "      <td>0</td>\n",
       "      <td>0</td>\n",
       "      <td>Are ready unlock full potential achieve goals?...</td>\n",
       "    </tr>\n",
       "    <tr>\n",
       "      <th>2</th>\n",
       "      <td>2</td>\n",
       "      <td>Setting yearly short term goals and meeting th...</td>\n",
       "      <td>0</td>\n",
       "      <td>0</td>\n",
       "      <td>0</td>\n",
       "      <td>Setting yearly short term goal meeting positiv...</td>\n",
       "    </tr>\n",
       "    <tr>\n",
       "      <th>3</th>\n",
       "      <td>3</td>\n",
       "      <td>Sometimes you have to ask yourself is it worth...</td>\n",
       "      <td>0</td>\n",
       "      <td>0</td>\n",
       "      <td>0</td>\n",
       "      <td>Sometimes ask worth it. #MentalHealthAwareness...</td>\n",
       "    </tr>\n",
       "    <tr>\n",
       "      <th>4</th>\n",
       "      <td>4</td>\n",
       "      <td>Having a rough day? #BeKind to your mind.. #Jo...</td>\n",
       "      <td>0</td>\n",
       "      <td>0</td>\n",
       "      <td>0</td>\n",
       "      <td>Having rough day? #BeKind mind.. #JoyTrain #Se...</td>\n",
       "    </tr>\n",
       "  </tbody>\n",
       "</table>\n",
       "</div>"
      ],
      "text/plain": [
       "   Unnamed: 0                                               text  meditation  \\\n",
       "0           0  A way for people to place problems in better p...           0   \n",
       "1           1  Are you ready to unlock your full potential an...           0   \n",
       "2           2  Setting yearly short term goals and meeting th...           0   \n",
       "3           3  Sometimes you have to ask yourself is it worth...           0   \n",
       "4           4  Having a rough day? #BeKind to your mind.. #Jo...           0   \n",
       "\n",
       "   therapy  workout                                    Processed_tweet  \n",
       "0        0        0  A way people place problem better perspective ...  \n",
       "1        0        0  Are ready unlock full potential achieve goals?...  \n",
       "2        0        0  Setting yearly short term goal meeting positiv...  \n",
       "3        0        0  Sometimes ask worth it. #MentalHealthAwareness...  \n",
       "4        0        0  Having rough day? #BeKind mind.. #JoyTrain #Se...  "
      ]
     },
     "execution_count": 276,
     "metadata": {},
     "output_type": "execute_result"
    }
   ],
   "source": [
    "df.head()"
   ]
  },
  {
   "cell_type": "code",
   "execution_count": 277,
   "id": "dd651804",
   "metadata": {},
   "outputs": [
    {
     "name": "stdout",
     "output_type": "stream",
     "text": [
      "Meditation Tweets: 588\n",
      "Therapy Tweets: 759\n",
      "Workout Tweets: 255\n"
     ]
    }
   ],
   "source": [
    "print(f\"Meditation Tweets: {len(df.loc[df['meditation'] == 1])}\")\n",
    "print(f\"Therapy Tweets: {len(df.loc[df['therapy'] == 1])}\")\n",
    "print(f\"Workout Tweets: {len(df.loc[df['workout'] == 1])}\")"
   ]
  },
  {
   "cell_type": "code",
   "execution_count": 278,
   "id": "516492c8",
   "metadata": {
    "scrolled": false
   },
   "outputs": [],
   "source": [
    "import nltk\n",
    "from nltk.corpus import stopwords\n",
    "from textblob import Word, TextBlob"
   ]
  },
  {
   "cell_type": "code",
   "execution_count": 279,
   "id": "ac68dbda",
   "metadata": {},
   "outputs": [
    {
     "name": "stderr",
     "output_type": "stream",
     "text": [
      "[nltk_data] Downloading package stopwords to\n",
      "[nltk_data]     /Users/joezoll/nltk_data...\n",
      "[nltk_data]   Package stopwords is already up-to-date!\n",
      "[nltk_data] Downloading package wordnet to /Users/joezoll/nltk_data...\n",
      "[nltk_data]   Package wordnet is already up-to-date!\n",
      "[nltk_data] Downloading package omw-1.4 to /Users/joezoll/nltk_data...\n",
      "[nltk_data]   Package omw-1.4 is already up-to-date!\n"
     ]
    },
    {
     "data": {
      "text/plain": [
       "True"
      ]
     },
     "execution_count": 279,
     "metadata": {},
     "output_type": "execute_result"
    }
   ],
   "source": [
    "nltk.download(\"stopwords\")\n",
    "nltk.download(\"wordnet\")\n",
    "stop_words = stopwords.words(\"english\")\n",
    "custom_stopwords = [\"RT\",\"#mentalhealth\"]\n",
    "nltk.download('omw-1.4')"
   ]
  },
  {
   "cell_type": "code",
   "execution_count": 280,
   "id": "3d592911",
   "metadata": {},
   "outputs": [],
   "source": [
    "def preprocess_tweets(tweet, custom_stopwords):\n",
    "    preprocessed_tweet = tweet\n",
    "    preprocessed_tweet.replace('[^\\w\\s]','')\n",
    "    preprocessed_tweet = \" \".join(word for word in preprocessed_tweet.split() if word not in stop_words)\n",
    "    preprocessed_tweet = \" \".join(word for word in preprocessed_tweet.split() if word not in custom_stopwords)\n",
    "    preprocessed_tweet = \" \".join(Word(word).lemmatize()for word in preprocessed_tweet.split())\n",
    "    return(preprocessed_tweet)\n",
    "\n",
    "df[\"Processed_tweet\"] = df['text'].apply(lambda x: preprocess_tweets(x,custom_stopwords))"
   ]
  },
  {
   "cell_type": "code",
   "execution_count": 281,
   "id": "804a1b3f",
   "metadata": {
    "scrolled": true
   },
   "outputs": [
    {
     "data": {
      "text/html": [
       "<div>\n",
       "<style scoped>\n",
       "    .dataframe tbody tr th:only-of-type {\n",
       "        vertical-align: middle;\n",
       "    }\n",
       "\n",
       "    .dataframe tbody tr th {\n",
       "        vertical-align: top;\n",
       "    }\n",
       "\n",
       "    .dataframe thead th {\n",
       "        text-align: right;\n",
       "    }\n",
       "</style>\n",
       "<table border=\"1\" class=\"dataframe\">\n",
       "  <thead>\n",
       "    <tr style=\"text-align: right;\">\n",
       "      <th></th>\n",
       "      <th>Unnamed: 0</th>\n",
       "      <th>text</th>\n",
       "      <th>meditation</th>\n",
       "      <th>therapy</th>\n",
       "      <th>workout</th>\n",
       "      <th>Processed_tweet</th>\n",
       "    </tr>\n",
       "  </thead>\n",
       "  <tbody>\n",
       "    <tr>\n",
       "      <th>0</th>\n",
       "      <td>0</td>\n",
       "      <td>A way for people to place problems in better p...</td>\n",
       "      <td>0</td>\n",
       "      <td>0</td>\n",
       "      <td>0</td>\n",
       "      <td>A way people place problem better perspective ...</td>\n",
       "    </tr>\n",
       "    <tr>\n",
       "      <th>1</th>\n",
       "      <td>1</td>\n",
       "      <td>Are you ready to unlock your full potential an...</td>\n",
       "      <td>0</td>\n",
       "      <td>0</td>\n",
       "      <td>0</td>\n",
       "      <td>Are ready unlock full potential achieve goals?...</td>\n",
       "    </tr>\n",
       "    <tr>\n",
       "      <th>2</th>\n",
       "      <td>2</td>\n",
       "      <td>Setting yearly short term goals and meeting th...</td>\n",
       "      <td>0</td>\n",
       "      <td>0</td>\n",
       "      <td>0</td>\n",
       "      <td>Setting yearly short term goal meeting positiv...</td>\n",
       "    </tr>\n",
       "    <tr>\n",
       "      <th>3</th>\n",
       "      <td>3</td>\n",
       "      <td>Sometimes you have to ask yourself is it worth...</td>\n",
       "      <td>0</td>\n",
       "      <td>0</td>\n",
       "      <td>0</td>\n",
       "      <td>Sometimes ask worth it. #MentalHealthAwareness...</td>\n",
       "    </tr>\n",
       "    <tr>\n",
       "      <th>4</th>\n",
       "      <td>4</td>\n",
       "      <td>Having a rough day? #BeKind to your mind.. #Jo...</td>\n",
       "      <td>0</td>\n",
       "      <td>0</td>\n",
       "      <td>0</td>\n",
       "      <td>Having rough day? #BeKind mind.. #JoyTrain #Se...</td>\n",
       "    </tr>\n",
       "  </tbody>\n",
       "</table>\n",
       "</div>"
      ],
      "text/plain": [
       "   Unnamed: 0                                               text  meditation  \\\n",
       "0           0  A way for people to place problems in better p...           0   \n",
       "1           1  Are you ready to unlock your full potential an...           0   \n",
       "2           2  Setting yearly short term goals and meeting th...           0   \n",
       "3           3  Sometimes you have to ask yourself is it worth...           0   \n",
       "4           4  Having a rough day? #BeKind to your mind.. #Jo...           0   \n",
       "\n",
       "   therapy  workout                                    Processed_tweet  \n",
       "0        0        0  A way people place problem better perspective ...  \n",
       "1        0        0  Are ready unlock full potential achieve goals?...  \n",
       "2        0        0  Setting yearly short term goal meeting positiv...  \n",
       "3        0        0  Sometimes ask worth it. #MentalHealthAwareness...  \n",
       "4        0        0  Having rough day? #BeKind mind.. #JoyTrain #Se...  "
      ]
     },
     "execution_count": 281,
     "metadata": {},
     "output_type": "execute_result"
    }
   ],
   "source": [
    "df.head()"
   ]
  },
  {
   "cell_type": "code",
   "execution_count": 282,
   "id": "8807f3e3",
   "metadata": {},
   "outputs": [],
   "source": [
    "df.to_csv(\"data/processed_data2.csv\", index=False)"
   ]
  },
  {
   "cell_type": "code",
   "execution_count": null,
   "id": "a63d1f35",
   "metadata": {},
   "outputs": [],
   "source": []
  }
 ],
 "metadata": {
  "kernelspec": {
   "display_name": "Python 3 (ipykernel)",
   "language": "python",
   "name": "python3"
  },
  "language_info": {
   "codemirror_mode": {
    "name": "ipython",
    "version": 3
   },
   "file_extension": ".py",
   "mimetype": "text/x-python",
   "name": "python",
   "nbconvert_exporter": "python",
   "pygments_lexer": "ipython3",
   "version": "3.9.13"
  },
  "vscode": {
   "interpreter": {
    "hash": "aee8b7b246df8f9039afb4144a1f6fd8d2ca17a180786b69acc140d282b71a49"
   }
  }
 },
 "nbformat": 4,
 "nbformat_minor": 5
}
