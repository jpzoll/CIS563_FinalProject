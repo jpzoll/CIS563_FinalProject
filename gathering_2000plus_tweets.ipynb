{
 "cells": [
  {
   "cell_type": "code",
   "execution_count": 6,
   "id": "161b5084",
   "metadata": {},
   "outputs": [],
   "source": [
    "import tweepy\n",
    "import configparser"
   ]
  },
  {
   "cell_type": "markdown",
   "id": "83a1c208",
   "metadata": {},
   "source": [
    "# Authenticate Twitter"
   ]
  },
  {
   "cell_type": "code",
   "execution_count": 44,
   "id": "43569972",
   "metadata": {},
   "outputs": [],
   "source": [
    "import tweepy\n",
    "import configparser\n",
    "import pandas as pd\n",
    "\n",
    "config = configparser.ConfigParser()\n",
    "\n",
    "config.read('config.ini')\n",
    "\n",
    "api_key = config['twitter']['api_key']\n",
    "api_key_secret = config['twitter']['api_key_secret']\n",
    "access_token = config['twitter']['access_token']\n",
    "access_token_secret = config['twitter']['access_token_secret']\n",
    "\n",
    "auth = tweepy.OAuthHandler(api_key, api_key_secret)\n",
    "auth.set_access_token(access_token, access_token_secret)\n",
    "twitter = tweepy.API(auth, wait_on_rate_limit=True)"
   ]
  },
  {
   "cell_type": "markdown",
   "id": "67c558bf",
   "metadata": {},
   "source": [
    "# Gather 2000+ Tweets"
   ]
  },
  {
   "cell_type": "code",
   "execution_count": 101,
   "id": "c400aa26",
   "metadata": {},
   "outputs": [
    {
     "name": "stderr",
     "output_type": "stream",
     "text": [
      "Rate limit reached. Sleeping for: 257\n"
     ]
    }
   ],
   "source": [
    "query = tweepy.Cursor(twitter.search_tweets, q='#mentalhealth').items(2000)\n",
    "tweets = [{'text': tweet.text} for tweet in query]\n",
    "df = pd.DataFrame(tweets)"
   ]
  },
  {
   "cell_type": "code",
   "execution_count": 102,
   "id": "b893bbf2",
   "metadata": {},
   "outputs": [
    {
     "data": {
      "text/html": [
       "<div>\n",
       "<style scoped>\n",
       "    .dataframe tbody tr th:only-of-type {\n",
       "        vertical-align: middle;\n",
       "    }\n",
       "\n",
       "    .dataframe tbody tr th {\n",
       "        vertical-align: top;\n",
       "    }\n",
       "\n",
       "    .dataframe thead th {\n",
       "        text-align: right;\n",
       "    }\n",
       "</style>\n",
       "<table border=\"1\" class=\"dataframe\">\n",
       "  <thead>\n",
       "    <tr style=\"text-align: right;\">\n",
       "      <th></th>\n",
       "      <th>text</th>\n",
       "    </tr>\n",
       "  </thead>\n",
       "  <tbody>\n",
       "    <tr>\n",
       "      <th>0</th>\n",
       "      <td>RT @marciachorney: SUCCESS: Before PLEASURE th...</td>\n",
       "    </tr>\n",
       "    <tr>\n",
       "      <th>1</th>\n",
       "      <td>❗ Earn #CME from our social media #livestream!...</td>\n",
       "    </tr>\n",
       "    <tr>\n",
       "      <th>2</th>\n",
       "      <td>RT @intern_amanda1: Problem: people in regiona...</td>\n",
       "    </tr>\n",
       "    <tr>\n",
       "      <th>3</th>\n",
       "      <td>RT @darongerschmd: Top medical groups ask Cong...</td>\n",
       "    </tr>\n",
       "    <tr>\n",
       "      <th>4</th>\n",
       "      <td>RT @shikeshsorathia: \"I am going to remind you...</td>\n",
       "    </tr>\n",
       "    <tr>\n",
       "      <th>...</th>\n",
       "      <td>...</td>\n",
       "    </tr>\n",
       "    <tr>\n",
       "      <th>1995</th>\n",
       "      <td>RT @Shalini_Journo: Must watch ANI Podcast on ...</td>\n",
       "    </tr>\n",
       "    <tr>\n",
       "      <th>1996</th>\n",
       "      <td>#Cognitive #Behavioural #Therapy (CBT) Practit...</td>\n",
       "    </tr>\n",
       "    <tr>\n",
       "      <th>1997</th>\n",
       "      <td>RT @TrainingMindful: “Stress Management Throug...</td>\n",
       "    </tr>\n",
       "    <tr>\n",
       "      <th>1998</th>\n",
       "      <td>RT @dariuswirl: Psychiatric nurses to attend s...</td>\n",
       "    </tr>\n",
       "    <tr>\n",
       "      <th>1999</th>\n",
       "      <td>RT @TheRealLyss: Buy Mental Health Cards in a ...</td>\n",
       "    </tr>\n",
       "  </tbody>\n",
       "</table>\n",
       "<p>2000 rows × 1 columns</p>\n",
       "</div>"
      ],
      "text/plain": [
       "                                                   text\n",
       "0     RT @marciachorney: SUCCESS: Before PLEASURE th...\n",
       "1     ❗ Earn #CME from our social media #livestream!...\n",
       "2     RT @intern_amanda1: Problem: people in regiona...\n",
       "3     RT @darongerschmd: Top medical groups ask Cong...\n",
       "4     RT @shikeshsorathia: \"I am going to remind you...\n",
       "...                                                 ...\n",
       "1995  RT @Shalini_Journo: Must watch ANI Podcast on ...\n",
       "1996  #Cognitive #Behavioural #Therapy (CBT) Practit...\n",
       "1997  RT @TrainingMindful: “Stress Management Throug...\n",
       "1998  RT @dariuswirl: Psychiatric nurses to attend s...\n",
       "1999  RT @TheRealLyss: Buy Mental Health Cards in a ...\n",
       "\n",
       "[2000 rows x 1 columns]"
      ]
     },
     "execution_count": 102,
     "metadata": {},
     "output_type": "execute_result"
    }
   ],
   "source": [
    "df"
   ]
  },
  {
   "cell_type": "code",
   "execution_count": 105,
   "id": "8a864b20",
   "metadata": {},
   "outputs": [],
   "source": [
    "pd.DataFrame.to_csv(df, 'data/2000_mental_health_tweets.csv')"
   ]
  }
 ],
 "metadata": {
  "kernelspec": {
   "display_name": "Python 3 (ipykernel)",
   "language": "python",
   "name": "python3"
  },
  "language_info": {
   "codemirror_mode": {
    "name": "ipython",
    "version": 3
   },
   "file_extension": ".py",
   "mimetype": "text/x-python",
   "name": "python",
   "nbconvert_exporter": "python",
   "pygments_lexer": "ipython3",
   "version": "3.9.13"
  }
 },
 "nbformat": 4,
 "nbformat_minor": 5
}
