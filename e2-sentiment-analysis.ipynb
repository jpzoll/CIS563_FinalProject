{
 "cells": [
  {
   "cell_type": "markdown",
   "id": "42978b2f",
   "metadata": {},
   "source": [
    "# Performing Sentiment Analysis on Tweets\n",
    "- Following Tutorial: [https://youtu.be/uPKnSq6TaAk]\n",
    "- See Also:           [https://huggingface.co/cardiffnlp/twitter-roberta-base-sentiment?text=I+like+you.+I+love+you]"
   ]
  },
  {
   "cell_type": "markdown",
   "id": "e6dcd4c9",
   "metadata": {},
   "source": [
    "# Sentiment Analysis"
   ]
  },
  {
   "cell_type": "code",
   "execution_count": 122,
   "id": "45a7ad90",
   "metadata": {},
   "outputs": [],
   "source": [
    "from transformers import AutoTokenizer\n",
    "from transformers import AutoModelForSequenceClassification\n",
    "from transformers import TFAutoModelForSequenceClassification\n",
    "import numpy as np\n",
    "from scipy.special import softmax"
   ]
  },
  {
   "cell_type": "code",
   "execution_count": 123,
   "id": "2ea4afb8",
   "metadata": {},
   "outputs": [],
   "source": [
    "# Initialize Tweet\n",
    "tweet = 'Shit! I\\'m pissed off!'"
   ]
  },
  {
   "cell_type": "code",
   "execution_count": 124,
   "id": "428387d0",
   "metadata": {},
   "outputs": [
    {
     "name": "stdout",
     "output_type": "stream",
     "text": [
      "Shit! I'm pissed off!\n"
     ]
    }
   ],
   "source": [
    "# Preprocess Tweet\n",
    "words = tweet.split(' ')\n",
    "words = ['@user' if (w.startswith('@') and len(w) > 1) else w for w in words]\n",
    "tweet_preprocessed = \" \".join(words)\n",
    "print(tweet_preprocessed)"
   ]
  },
  {
   "cell_type": "code",
   "execution_count": 125,
   "id": "4a9a45a1",
   "metadata": {},
   "outputs": [],
   "source": [
    "# Initialize Model\n",
    "roberta_url = 'cardiffnlp/twitter-roberta-base-sentiment'\n",
    "model = AutoModelForSequenceClassification.from_pretrained(roberta_url)\n",
    "tokenizer = AutoTokenizer.from_pretrained(roberta_url)\n",
    "labels = ['Negative', 'Neutral', 'Positive']"
   ]
  },
  {
   "cell_type": "code",
   "execution_count": 126,
   "id": "07974ef7",
   "metadata": {},
   "outputs": [],
   "source": [
    "# Run Model(Tweet)\n",
    "tweet_encoded = tokenizer(tweet_preprocessed, return_tensors='pt')\n",
    "#output = model(tweet_encoded['input_ids'], tweet_encoded['attention_mask'])\n",
    "output = model(**tweet_encoded)"
   ]
  },
  {
   "cell_type": "code",
   "execution_count": 127,
   "id": "4d662b30",
   "metadata": {},
   "outputs": [
    {
     "name": "stdout",
     "output_type": "stream",
     "text": [
      "Negative: 0.9690775871276855\n",
      "Neutral: 0.024700108915567398\n",
      "Positive: 0.006222342606633902\n"
     ]
    }
   ],
   "source": [
    "# Output\n",
    "scores = output[0][0].detach().numpy()\n",
    "scores = softmax(scores)\n",
    "\n",
    "for i in range(len(scores)):\n",
    "    print(f'{labels[i]}: {scores[i]}')"
   ]
  },
  {
   "cell_type": "code",
   "execution_count": 128,
   "id": "fa2cd7c9",
   "metadata": {},
   "outputs": [],
   "source": [
    "def sentiment_analyze(tweet):\n",
    "    # Preprocess Tweet\n",
    "    words = tweet.split(' ')\n",
    "    words = ['@user' if (w.startswith('@') and len(w) > 1) else w for w in words]\n",
    "    tweet_preprocessed = \" \".join(words)\n",
    "    print(f'Tweet (preprocessed): {tweet_preprocessed}')\n",
    "    \n",
    "    # Initialize Model\n",
    "    roberta_url = 'cardiffnlp/twitter-roberta-base-sentiment'\n",
    "    model = AutoModelForSequenceClassification.from_pretrained(roberta_url)\n",
    "    tokenizer = AutoTokenizer.from_pretrained(roberta_url)\n",
    "    labels = ['Negative', 'Neutral', 'Positive']\n",
    "    \n",
    "    # Run Model(Tweet)\n",
    "    tweet_encoded = tokenizer(tweet_preprocessed, return_tensors='pt')\n",
    "    #output = model(tweet_encoded['input_ids'], tweet_encoded['attention_mask'])\n",
    "    output = model(**tweet_encoded)\n",
    "    \n",
    "    # Output\n",
    "    scores = output[0][0].detach().numpy()\n",
    "    scores = softmax(scores)\n",
    "\n",
    "    for i in range(len(scores)):\n",
    "        print(f'{labels[i]}: {scores[i]}')\n",
    "        \n",
    "    return labels, scores"
   ]
  },
  {
   "cell_type": "markdown",
   "id": "c37d2e49",
   "metadata": {},
   "source": [
    "# Examples (try some out yourself!)"
   ]
  },
  {
   "cell_type": "code",
   "execution_count": 129,
   "id": "4721bd21",
   "metadata": {
    "scrolled": true
   },
   "outputs": [
    {
     "name": "stdout",
     "output_type": "stream",
     "text": [
      "Tweet (preprocessed): Fuck!\n",
      "Negative: 0.931067705154419\n",
      "Neutral: 0.056312479078769684\n",
      "Positive: 0.012619812041521072\n"
     ]
    },
    {
     "data": {
      "text/plain": [
       "(['Negative', 'Neutral', 'Positive'],\n",
       " array([0.9310677 , 0.05631248, 0.01261981], dtype=float32))"
      ]
     },
     "execution_count": 129,
     "metadata": {},
     "output_type": "execute_result"
    }
   ],
   "source": [
    "t = 'Fuck!'\n",
    "sentiment_analyze(t)"
   ]
  },
  {
   "cell_type": "code",
   "execution_count": 130,
   "id": "5095f71c",
   "metadata": {},
   "outputs": [
    {
     "name": "stdout",
     "output_type": "stream",
     "text": [
      "Tweet (preprocessed): Awesome!\n",
      "Negative: 0.0042463126592338085\n",
      "Neutral: 0.03754191845655441\n",
      "Positive: 0.9582117199897766\n"
     ]
    },
    {
     "data": {
      "text/plain": [
       "(['Negative', 'Neutral', 'Positive'],\n",
       " array([0.00424631, 0.03754192, 0.9582117 ], dtype=float32))"
      ]
     },
     "execution_count": 130,
     "metadata": {},
     "output_type": "execute_result"
    }
   ],
   "source": [
    "t = 'Awesome!'\n",
    "sentiment_analyze(t)"
   ]
  },
  {
   "cell_type": "code",
   "execution_count": 131,
   "id": "78d7b43e",
   "metadata": {},
   "outputs": [
    {
     "name": "stdout",
     "output_type": "stream",
     "text": [
      "Tweet (preprocessed): I hate being bipolar. It is awesome!\n",
      "Negative: 0.21771182119846344\n",
      "Neutral: 0.240257129073143\n",
      "Positive: 0.5420310497283936\n"
     ]
    },
    {
     "data": {
      "text/plain": [
       "(['Negative', 'Neutral', 'Positive'],\n",
       " array([0.21771182, 0.24025713, 0.54203105], dtype=float32))"
      ]
     },
     "execution_count": 131,
     "metadata": {},
     "output_type": "execute_result"
    }
   ],
   "source": [
    "t = 'I hate being bipolar. It is awesome!'\n",
    "sentiment_analyze(t)"
   ]
  },
  {
   "cell_type": "code",
   "execution_count": null,
   "id": "389a4e58",
   "metadata": {},
   "outputs": [
    {
     "name": "stdout",
     "output_type": "stream",
     "text": [
      "Tweet (preprocessed): There is a ball on the table.\n"
     ]
    }
   ],
   "source": [
    "t = 'There is a ball on the table.'\n",
    "sentiment_analyze(t)"
   ]
  }
 ],
 "metadata": {
  "kernelspec": {
   "display_name": "Python 3 (ipykernel)",
   "language": "python",
   "name": "python3"
  },
  "language_info": {
   "codemirror_mode": {
    "name": "ipython",
    "version": 3
   },
   "file_extension": ".py",
   "mimetype": "text/x-python",
   "name": "python",
   "nbconvert_exporter": "python",
   "pygments_lexer": "ipython3",
   "version": "3.9.13"
  }
 },
 "nbformat": 4,
 "nbformat_minor": 5
}
