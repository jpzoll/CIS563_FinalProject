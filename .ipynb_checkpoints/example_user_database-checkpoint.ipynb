{
 "cells": [
  {
   "cell_type": "markdown",
   "id": "af983212",
   "metadata": {},
   "source": [
    "# Two Tasks\n",
    "1. Sentiment Analyze an Account's AVERAGE FOLLOWER MOOD\n",
    "2. Sentiment Analyze an Account's mood\n",
    "\n",
    "**Combine these together into 1 User database/dataframe**"
   ]
  },
  {
   "cell_type": "code",
   "execution_count": 1,
   "id": "45bab454",
   "metadata": {},
   "outputs": [],
   "source": [
    "from Cookbook import *\n",
    "import pandas as pd"
   ]
  },
  {
   "cell_type": "code",
   "execution_count": 2,
   "id": "0b7ed740",
   "metadata": {},
   "outputs": [],
   "source": [
    "userList = ['EckhartTolle', 'JulienHimself', 'Headspace', 'realDonaldTrump']"
   ]
  },
  {
   "cell_type": "code",
   "execution_count": 3,
   "id": "8790e29a",
   "metadata": {
    "scrolled": false
   },
   "outputs": [],
   "source": [
    "df = create_user_dataframe(userList = ['EckhartTolle', 'JulienHimself', 'Headspace', 'realDonaldTrump'])"
   ]
  },
  {
   "cell_type": "code",
   "execution_count": 4,
   "id": "c60a6a47",
   "metadata": {
    "scrolled": true
   },
   "outputs": [
    {
     "data": {
      "text/html": [
       "<div>\n",
       "<style scoped>\n",
       "    .dataframe tbody tr th:only-of-type {\n",
       "        vertical-align: middle;\n",
       "    }\n",
       "\n",
       "    .dataframe tbody tr th {\n",
       "        vertical-align: top;\n",
       "    }\n",
       "\n",
       "    .dataframe thead th {\n",
       "        text-align: right;\n",
       "    }\n",
       "</style>\n",
       "<table border=\"1\" class=\"dataframe\">\n",
       "  <thead>\n",
       "    <tr style=\"text-align: right;\">\n",
       "      <th></th>\n",
       "      <th>user</th>\n",
       "      <th>mood</th>\n",
       "      <th>follower_mood</th>\n",
       "    </tr>\n",
       "  </thead>\n",
       "  <tbody>\n",
       "    <tr>\n",
       "      <th>0</th>\n",
       "      <td>EckhartTolle</td>\n",
       "      <td>Neutral</td>\n",
       "      <td>Neutral</td>\n",
       "    </tr>\n",
       "    <tr>\n",
       "      <th>1</th>\n",
       "      <td>JulienHimself</td>\n",
       "      <td>Positive</td>\n",
       "      <td>Positive</td>\n",
       "    </tr>\n",
       "    <tr>\n",
       "      <th>2</th>\n",
       "      <td>Headspace</td>\n",
       "      <td>Positive</td>\n",
       "      <td>Positive</td>\n",
       "    </tr>\n",
       "    <tr>\n",
       "      <th>3</th>\n",
       "      <td>realDonaldTrump</td>\n",
       "      <td>Neutral</td>\n",
       "      <td>Neutral</td>\n",
       "    </tr>\n",
       "  </tbody>\n",
       "</table>\n",
       "</div>"
      ],
      "text/plain": [
       "              user      mood follower_mood\n",
       "0     EckhartTolle   Neutral       Neutral\n",
       "1    JulienHimself  Positive      Positive\n",
       "2        Headspace  Positive      Positive\n",
       "3  realDonaldTrump   Neutral       Neutral"
      ]
     },
     "execution_count": 4,
     "metadata": {},
     "output_type": "execute_result"
    }
   ],
   "source": [
    "df"
   ]
  },
  {
   "cell_type": "markdown",
   "id": "186c6271",
   "metadata": {},
   "source": [
    "# Notes"
   ]
  },
  {
   "cell_type": "markdown",
   "id": "4a52b4fe",
   "metadata": {},
   "source": [
    "- 4 minutes to sentiment analyze ~120 tweets\n",
    "- 20 seconds to sentiment analyze 10 tweets\n",
    "\n",
    "I would like to get a quantifiable measure on the mood, but the way qBert does this is not conducive to that. Should we use/move to another model for sentiment analysis?\n",
    "\n",
    "What can we do with just this data alone? What more do we need?\n",
    "\n",
    "- https://youtu.be/_EgqxIoUE7U"
   ]
  },
  {
   "cell_type": "markdown",
   "id": "12ecff70",
   "metadata": {},
   "source": [
    "# Bonus: Example with idea"
   ]
  },
  {
   "cell_type": "code",
   "execution_count": 5,
   "id": "f4249482",
   "metadata": {},
   "outputs": [],
   "source": [
    "d = {\n",
    "    'users': ['EckhartTolle', 'JulienHimself', 'Headspace', 'realDonaldTrump'],\n",
    "    'mood': ['Positive', 'Positive', 'Positive', 'Negative'],\n",
    "    'f_mood': ['Positive', 'Positive', 'Positive', 'Negative'],\n",
    "    'polarity': [0.6, 0.8, 0.9, -0.4],\n",
    "    'subjectivity': [0.1, 0.3, 0.3, 0.9],\n",
    "}"
   ]
  },
  {
   "cell_type": "code",
   "execution_count": 18,
   "id": "99eb5861",
   "metadata": {
    "scrolled": true
   },
   "outputs": [
    {
     "data": {
      "text/html": [
       "<div>\n",
       "<style scoped>\n",
       "    .dataframe tbody tr th:only-of-type {\n",
       "        vertical-align: middle;\n",
       "    }\n",
       "\n",
       "    .dataframe tbody tr th {\n",
       "        vertical-align: top;\n",
       "    }\n",
       "\n",
       "    .dataframe thead th {\n",
       "        text-align: right;\n",
       "    }\n",
       "</style>\n",
       "<table border=\"1\" class=\"dataframe\">\n",
       "  <thead>\n",
       "    <tr style=\"text-align: right;\">\n",
       "      <th></th>\n",
       "      <th>users</th>\n",
       "      <th>mood</th>\n",
       "      <th>f_mood</th>\n",
       "      <th>polarity</th>\n",
       "      <th>subjectivity</th>\n",
       "    </tr>\n",
       "  </thead>\n",
       "  <tbody>\n",
       "    <tr>\n",
       "      <th>0</th>\n",
       "      <td>EckhartTolle</td>\n",
       "      <td>1</td>\n",
       "      <td>1</td>\n",
       "      <td>0.6</td>\n",
       "      <td>0.1</td>\n",
       "    </tr>\n",
       "    <tr>\n",
       "      <th>1</th>\n",
       "      <td>JulienHimself</td>\n",
       "      <td>1</td>\n",
       "      <td>1</td>\n",
       "      <td>0.8</td>\n",
       "      <td>0.3</td>\n",
       "    </tr>\n",
       "    <tr>\n",
       "      <th>2</th>\n",
       "      <td>Headspace</td>\n",
       "      <td>1</td>\n",
       "      <td>1</td>\n",
       "      <td>0.9</td>\n",
       "      <td>0.3</td>\n",
       "    </tr>\n",
       "    <tr>\n",
       "      <th>3</th>\n",
       "      <td>realDonaldTrump</td>\n",
       "      <td>-1</td>\n",
       "      <td>-1</td>\n",
       "      <td>-0.4</td>\n",
       "      <td>0.9</td>\n",
       "    </tr>\n",
       "  </tbody>\n",
       "</table>\n",
       "</div>"
      ],
      "text/plain": [
       "             users mood f_mood  polarity  subjectivity\n",
       "0     EckhartTolle    1      1       0.6           0.1\n",
       "1    JulienHimself    1      1       0.8           0.3\n",
       "2        Headspace    1      1       0.9           0.3\n",
       "3  realDonaldTrump   -1     -1      -0.4           0.9"
      ]
     },
     "execution_count": 18,
     "metadata": {},
     "output_type": "execute_result"
    }
   ],
   "source": [
    "edf = pd.DataFrame.from_dict(d)\n",
    "edf.loc[edf['mood'] =='Positive', 'mood'] = 1\n",
    "edf.loc[edf['mood'] == 'Negative', 'mood'] = -1\n",
    "edf.loc[edf['mood'] == 'Neutral', 'mood'] = 0\n",
    "\n",
    "edf.loc[edf['f_mood'] =='Positive', 'f_mood'] = 1\n",
    "edf.loc[edf['f_mood'] == 'Negative', 'f_mood'] = -1\n",
    "edf.loc[edf['f_mood'] == 'Neutral', 'f_mood'] = 0\n",
    "\n",
    "edf"
   ]
  },
  {
   "cell_type": "markdown",
   "id": "0cb679a7",
   "metadata": {},
   "source": [
    "# The Ultimate Question:\n",
    "# Q -> What is the coolest, most interesting thing we can do with this data?\n",
    "\n",
    "Ideas\n",
    "- bare minimum: input user and it will tell you what the vibe of the account and followers will be\n",
    "- visualize and let the graphs shows us:\n",
    "    - Businessmen\n",
    "    - Spiritual Teachers\n",
    "    - Professors, Psychologists, Researchers, etc.\n",
    "    - Authors\n",
    "    - App Accounts & Organizations\n",
    "    - MAKE X-Y GRAPH, COLOR EACH GROUP TYPE FOR EACH DOT (X == SUBJ, Y == POLARITY)\n",
    "- App: Input account type, occupation, etc. -> output follower vibe, account vibe\n",
    "- App: Input account type, occupation, etc. -> This account is either (1) A Healthy Account, (2) An Unhealthy Account\", (3) A Mixed bag\". This will depend on the accounts overall mood and f_mood"
   ]
  },
  {
   "cell_type": "code",
   "execution_count": 19,
   "id": "f6ad8e55",
   "metadata": {},
   "outputs": [],
   "source": [
    "import matplotlib.pyplot as plt"
   ]
  },
  {
   "cell_type": "code",
   "execution_count": 22,
   "id": "2eb5c414",
   "metadata": {
    "scrolled": true
   },
   "outputs": [
    {
     "data": {
      "text/plain": [
       "<matplotlib.collections.PathCollection at 0x13b826130>"
      ]
     },
     "execution_count": 22,
     "metadata": {},
     "output_type": "execute_result"
    },
    {
     "data": {
      "image/png": "[encoded data removed]",
      "text/plain": [
       "<Figure size 640x480 with 1 Axes>"
      ]
     },
     "metadata": {},
     "output_type": "display_data"
    }
   ],
   "source": [
    "plt.scatter(edf['subjectivity'], edf['polarity'])"
   ]
  },
  {
   "cell_type": "code",
   "execution_count": null,
   "id": "2d404cbc",
   "metadata": {},
   "outputs": [],
   "source": []
  }
 ],
 "metadata": {
  "kernelspec": {
   "display_name": "Python 3 (ipykernel)",
   "language": "python",
   "name": "python3"
  },
  "language_info": {
   "codemirror_mode": {
    "name": "ipython",
    "version": 3
   },
   "file_extension": ".py",
   "mimetype": "text/x-python",
   "name": "python",
   "nbconvert_exporter": "python",
   "pygments_lexer": "ipython3",
   "version": "3.9.13"
  }
 },
 "nbformat": 4,
 "nbformat_minor": 5
}
