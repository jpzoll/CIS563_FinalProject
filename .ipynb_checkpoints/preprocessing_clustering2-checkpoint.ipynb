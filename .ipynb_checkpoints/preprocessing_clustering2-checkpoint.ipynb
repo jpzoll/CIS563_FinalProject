{
 "cells": [
  {
   "cell_type": "markdown",
   "id": "828e06f2",
   "metadata": {},
   "source": [
    "# Intention: Gather & Preprocess all the tweets from our 2 Target Groups\n",
    "# 1. Spirituality Teachers\n",
    "# 2. Actors"
   ]
  },
  {
   "cell_type": "code",
   "execution_count": 1,
   "id": "a8d7bbf9",
   "metadata": {},
   "outputs": [],
   "source": [
    "from Cookbook import *\n",
    "import matplotlib.pyplot as plt"
   ]
  },
  {
   "cell_type": "code",
   "execution_count": 2,
   "id": "817e7a8b",
   "metadata": {},
   "outputs": [],
   "source": [
    "import tweepy\n",
    "import configparser\n",
    "import pandas as pd\n",
    "\n",
    "config = configparser.ConfigParser()\n",
    "\n",
    "config.read('config.ini')\n",
    "\n",
    "api_key = config['twitter']['api_key']\n",
    "api_key_secret = config['twitter']['api_key_secret']\n",
    "access_token = config['twitter']['access_token']\n",
    "access_token_secret = config['twitter']['access_token_secret']\n",
    "\n",
    "auth = tweepy.OAuthHandler(api_key, api_key_secret)\n",
    "auth.set_access_token(access_token, access_token_secret)\n",
    "twitter = tweepy.API(auth)"
   ]
  },
  {
   "cell_type": "code",
   "execution_count": 3,
   "id": "35bbb253",
   "metadata": {},
   "outputs": [],
   "source": [
    "import snscrape.modules.twitter as sntwitter\n",
    "import nltk\n",
    "from nltk.corpus import stopwords\n",
    "from textblob import Word, TextBlob"
   ]
  },
  {
   "cell_type": "code",
   "execution_count": 4,
   "id": "4cf05bb0",
   "metadata": {},
   "outputs": [],
   "source": [
    "df = pd.read_csv('data/user_accounts2.csv')"
   ]
  },
  {
   "cell_type": "code",
   "execution_count": 5,
   "id": "9ede50a6",
   "metadata": {
    "scrolled": true
   },
   "outputs": [
    {
     "data": {
      "text/html": [
       "<div>\n",
       "<style scoped>\n",
       "    .dataframe tbody tr th:only-of-type {\n",
       "        vertical-align: middle;\n",
       "    }\n",
       "\n",
       "    .dataframe tbody tr th {\n",
       "        vertical-align: top;\n",
       "    }\n",
       "\n",
       "    .dataframe thead th {\n",
       "        text-align: right;\n",
       "    }\n",
       "</style>\n",
       "<table border=\"1\" class=\"dataframe\">\n",
       "  <thead>\n",
       "    <tr style=\"text-align: right;\">\n",
       "      <th></th>\n",
       "      <th>screen_name</th>\n",
       "      <th>group</th>\n",
       "    </tr>\n",
       "  </thead>\n",
       "  <tbody>\n",
       "    <tr>\n",
       "      <th>0</th>\n",
       "      <td>EckhartTolle</td>\n",
       "      <td>1</td>\n",
       "    </tr>\n",
       "    <tr>\n",
       "      <th>1</th>\n",
       "      <td>JulienHimself</td>\n",
       "      <td>1</td>\n",
       "    </tr>\n",
       "    <tr>\n",
       "      <th>2</th>\n",
       "      <td>realDonaldTrump</td>\n",
       "      <td>1</td>\n",
       "    </tr>\n",
       "    <tr>\n",
       "      <th>3</th>\n",
       "      <td>elonMusk</td>\n",
       "      <td>1</td>\n",
       "    </tr>\n",
       "    <tr>\n",
       "      <th>4</th>\n",
       "      <td>Headspace</td>\n",
       "      <td>1</td>\n",
       "    </tr>\n",
       "    <tr>\n",
       "      <th>...</th>\n",
       "      <td>...</td>\n",
       "      <td>...</td>\n",
       "    </tr>\n",
       "    <tr>\n",
       "      <th>91</th>\n",
       "      <td>@iHrithik</td>\n",
       "      <td>2</td>\n",
       "    </tr>\n",
       "    <tr>\n",
       "      <th>92</th>\n",
       "      <td>@AnushkaSharma</td>\n",
       "      <td>2</td>\n",
       "    </tr>\n",
       "    <tr>\n",
       "      <th>93</th>\n",
       "      <td>@sonamakapoor</td>\n",
       "      <td>2</td>\n",
       "    </tr>\n",
       "    <tr>\n",
       "      <th>94</th>\n",
       "      <td>@samclaflin</td>\n",
       "      <td>2</td>\n",
       "    </tr>\n",
       "    <tr>\n",
       "      <th>95</th>\n",
       "      <td>@TomHolland1996</td>\n",
       "      <td>2</td>\n",
       "    </tr>\n",
       "  </tbody>\n",
       "</table>\n",
       "<p>96 rows × 2 columns</p>\n",
       "</div>"
      ],
      "text/plain": [
       "        screen_name  group\n",
       "0      EckhartTolle      1\n",
       "1     JulienHimself      1\n",
       "2   realDonaldTrump      1\n",
       "3          elonMusk      1\n",
       "4         Headspace      1\n",
       "..              ...    ...\n",
       "91        @iHrithik      2\n",
       "92   @AnushkaSharma      2\n",
       "93    @sonamakapoor      2\n",
       "94      @samclaflin      2\n",
       "95  @TomHolland1996      2\n",
       "\n",
       "[96 rows x 2 columns]"
      ]
     },
     "execution_count": 5,
     "metadata": {},
     "output_type": "execute_result"
    }
   ],
   "source": [
    "df"
   ]
  },
  {
   "cell_type": "markdown",
   "id": "6a9ff722",
   "metadata": {},
   "source": [
    "# Preprocessing Accounts"
   ]
  },
  {
   "cell_type": "code",
   "execution_count": 6,
   "id": "84c5409a",
   "metadata": {},
   "outputs": [],
   "source": [
    "df['screen_name'] = df['screen_name'].astype(str).str.replace('@', '')"
   ]
  },
  {
   "cell_type": "code",
   "execution_count": 7,
   "id": "3afa944d",
   "metadata": {},
   "outputs": [],
   "source": [
    "def is_valid_account(s):\n",
    "    try:\n",
    "        x = twitter.get_user(screen_name=s)\n",
    "        return True\n",
    "    except:\n",
    "        return False"
   ]
  },
  {
   "cell_type": "code",
   "execution_count": 15,
   "id": "932c4fdf",
   "metadata": {
    "scrolled": true
   },
   "outputs": [
    {
     "data": {
      "text/plain": [
       "True"
      ]
     },
     "execution_count": 15,
     "metadata": {},
     "output_type": "execute_result"
    }
   ],
   "source": [
    "initial_users = df['screen_name'].values\n",
    "initial_users = list(initial_users)\n",
    "\n",
    "is_valid_account(initial_users[1])"
   ]
  },
  {
   "cell_type": "code",
   "execution_count": 17,
   "id": "c5aabe5b",
   "metadata": {},
   "outputs": [],
   "source": [
    "#userList = [user for user in initial_users if is_valid_account(user)]\n",
    "invalid_users = [user for user in initial_users if not is_valid_account(user)]"
   ]
  },
  {
   "cell_type": "code",
   "execution_count": 18,
   "id": "6061883a",
   "metadata": {},
   "outputs": [
    {
     "data": {
      "text/plain": [
       "['amishshija', 'IMKristenBell', 'TheEllenShow']"
      ]
     },
     "execution_count": 18,
     "metadata": {},
     "output_type": "execute_result"
    }
   ],
   "source": [
    "invalid_users"
   ]
  },
  {
   "cell_type": "code",
   "execution_count": 20,
   "id": "01a56eac",
   "metadata": {},
   "outputs": [
    {
     "data": {
      "text/plain": [
       "['EckhartTolle',\n",
       " 'JulienHimself',\n",
       " 'Headspace',\n",
       " 'InsightTimer',\n",
       " 'TrainingMindful',\n",
       " 'SadhguruJV',\n",
       " 'PMOIndia',\n",
       " 'DeepakChopra',\n",
       " 'DalaiLama',\n",
       " 'Oprah',\n",
       " 'thichnhathanh',\n",
       " 'TonyRobbins',\n",
       " 'BabaRamDass',\n",
       " 'tinybuddha',\n",
       " 'Zen_Moments',\n",
       " 'mindfulnessbell',\n",
       " 'wkup',\n",
       " 'TaraBrach',\n",
       " 'APAHealthyMinds',\n",
       " 'PsychCentral',\n",
       " 'PsychToday',\n",
       " 'PsychNews',\n",
       " 'MindfulEveryday',\n",
       " 'JamesFrancoTV',\n",
       " 'EmmaWatson ',\n",
       " 'annaKendrick47',\n",
       " 'SteveMartinToGo',\n",
       " 'PamGrier',\n",
       " 'JimCarrey',\n",
       " 'carrieffisher',\n",
       " 'samuelLJackson',\n",
       " 'IanMcKellen',\n",
       " 'jadapsmith',\n",
       " 'ladygaga',\n",
       " 'justinbieber',\n",
       " 'stephenfry',\n",
       " 'britneyspears',\n",
       " 'taylorswift13',\n",
       " 'katyperry',\n",
       " 'rihanna',\n",
       " 'MileyCyrus ',\n",
       " 'rustyrockets',\n",
       " 'selenagomez',\n",
       " 'adamlambert',\n",
       " 'JLo',\n",
       " 'Cher',\n",
       " 'chrisbrogan']"
      ]
     },
     "execution_count": 20,
     "metadata": {},
     "output_type": "execute_result"
    }
   ],
   "source": [
    "final_user_list = l1 + l2\n",
    "final_user_list"
   ]
  },
  {
   "cell_type": "markdown",
   "id": "47a4c598",
   "metadata": {},
   "source": [
    "# Compute Account Mood & Follower Mood"
   ]
  },
  {
   "cell_type": "code",
   "execution_count": null,
   "id": "092d8939",
   "metadata": {},
   "outputs": [],
   "source": [
    "def compute_twitter_query_mood(screen_name, max_tweets, query_form='from'):\n",
    "    query = f'({query_form}:{screen_name})'\n",
    "    tweets = []\n",
    "    \n",
    "    for tweet in sntwitter.TwitterSearchScraper(query).get_items():\n",
    "        if len(tweets) >= max_tweets:\n",
    "            break\n",
    "            \n",
    "        tweets.append(tweet.content)\n",
    "        \n",
    "    mood = np.mean(list(map(lambda x: TextBlob(x).sentiment[0], tweets)))\n",
    "    \n",
    "    return mood"
   ]
  },
  {
   "cell_type": "code",
   "execution_count": null,
   "id": "54c32fb5",
   "metadata": {},
   "outputs": [],
   "source": [
    "mood_dict = {\n",
    "    'user': [],\n",
    "    'mood': [],\n",
    "    'community_mood': []\n",
    "}\n",
    "\n",
    "num_tweets = 100\n",
    "\n",
    "for i in range(len(final_user_list)):\n",
    "    curr_user = final_user_list[i]\n",
    "    mood = compute_twitter_query_mood(curr_user, num_tweets, 'from')\n",
    "    c_mood = compute_twitter_query_mood(curr_user, num_tweets, 'to')\n",
    "        \n",
    "    mood_dict['user'].append(curr_user)\n",
    "    mood_dict['mood'].append(mood)\n",
    "    mood_dict['community_mood'].append(c_mood)"
   ]
  },
  {
   "cell_type": "code",
   "execution_count": null,
   "id": "9f5f3a45",
   "metadata": {
    "scrolled": true
   },
   "outputs": [],
   "source": [
    "df = pd.DataFrame(mood_dict)"
   ]
  },
  {
   "cell_type": "code",
   "execution_count": null,
   "id": "3af2fd0d",
   "metadata": {},
   "outputs": [],
   "source": [
    "df"
   ]
  },
  {
   "cell_type": "code",
   "execution_count": null,
   "id": "058d8dad",
   "metadata": {},
   "outputs": [],
   "source": [
    "df.to_csv('data/moods_and_community_moods.csv')"
   ]
  },
  {
   "cell_type": "code",
   "execution_count": null,
   "id": "819b45c6",
   "metadata": {},
   "outputs": [],
   "source": [
    "df1 = df.copy()"
   ]
  },
  {
   "cell_type": "code",
   "execution_count": null,
   "id": "12e2c185",
   "metadata": {},
   "outputs": [],
   "source": [
    "x = df['mood'].values\n",
    "y = df['community_mood'].values\n",
    "\n",
    "plt.scatter(x,y)"
   ]
  },
  {
   "cell_type": "code",
   "execution_count": null,
   "id": "6e46e16a",
   "metadata": {
    "scrolled": true
   },
   "outputs": [],
   "source": [
    "# Account Mood\n",
    "\n",
    "num_tweets = 100\n",
    "\n",
    "for i in range(len(final_user_list)):\n",
    "    curr_user = 'EckhartTolle'#final_user_list[i]\n",
    "    ts, mood = compute_twitter_query_mood(curr_user, num_tweets, 'from')\n",
    "    ts2, f_mood = compute_twitter_query_mood(curr_user, num_tweets, 'to')\n",
    "    break\n",
    "    \n",
    "\n",
    "    \n",
    "# Follower Mood"
   ]
  },
  {
   "cell_type": "code",
   "execution_count": null,
   "id": "74b6d34b",
   "metadata": {
    "scrolled": true
   },
   "outputs": [],
   "source": [
    "mood, f_mood"
   ]
  },
  {
   "cell_type": "markdown",
   "id": "c686231d",
   "metadata": {},
   "source": [
    "now, we will get the f_mood for Eckhart Tolle. After that, we will apply both methods to get the mood and f_mood for every single user among the 50 accounts and apply K-Means Clustering on them.\n",
    "\n",
    "If we see a validated hypothesis, we may end there. \n",
    "\n",
    "If we do NOT see a validated hypothesis, we may adjust our parameters to be subjectvitiy polarity\n",
    "\n",
    "(side note: Did you increase to 100 (50 meditation and 50 actor accounts"
   ]
  },
  {
   "cell_type": "markdown",
   "id": "2fb71bc1",
   "metadata": {},
   "source": [
    "# WARNING! The following line of code takes *at least* 45min-1hr to load"
   ]
  },
  {
   "cell_type": "code",
   "execution_count": null,
   "id": "277d6061",
   "metadata": {
    "scrolled": false
   },
   "outputs": [],
   "source": [
    "#df2 = create_user_dataframe2(final_user_list)"
   ]
  },
  {
   "cell_type": "code",
   "execution_count": null,
   "id": "708b21c2",
   "metadata": {
    "scrolled": false
   },
   "outputs": [],
   "source": [
    "df2"
   ]
  },
  {
   "cell_type": "code",
   "execution_count": null,
   "id": "e6bd399e",
   "metadata": {},
   "outputs": [],
   "source": [
    "pd.DataFrame.to_csv(df2, 'data/mood_and_f_moods2.csv')"
   ]
  },
  {
   "cell_type": "markdown",
   "id": "7606ddac",
   "metadata": {},
   "source": [
    "# Other"
   ]
  },
  {
   "cell_type": "code",
   "execution_count": null,
   "id": "9d6d440b",
   "metadata": {
    "scrolled": true
   },
   "outputs": [],
   "source": [
    "nltk.download(\"stopwords\")\n",
    "nltk.download(\"wordnet\")\n",
    "stop_words = stopwords.words(\"english\")\n",
    "custom_stopwords = [\"RT\", \"https:\"]\n",
    "nltk.download('omw-1.4')"
   ]
  },
  {
   "cell_type": "code",
   "execution_count": null,
   "id": "7bfbd3c9",
   "metadata": {
    "scrolled": true
   },
   "outputs": [],
   "source": [
    "i = 89\n",
    "print(ts[i])\n",
    "new = preprocess_tweet(ts[i], custom_stopwords)\n",
    "print(new)\n",
    "#preprocess_tweet()\n",
    "print(TextBlob(ts[0]).sentiment[0], TextBlob(new).sentiment[0])"
   ]
  },
  {
   "cell_type": "code",
   "execution_count": null,
   "id": "63f58143",
   "metadata": {
    "scrolled": true
   },
   "outputs": [],
   "source": [
    "xs = [(t, TextBlob(t).sentiment[0]) for t in ts]\n",
    "xs[36]"
   ]
  },
  {
   "cell_type": "code",
   "execution_count": null,
   "id": "c4c8373d",
   "metadata": {},
   "outputs": [],
   "source": [
    "import nltk\n",
    "from nltk.corpus import stopwords\n",
    "from textblob import Word, TextBlob"
   ]
  },
  {
   "cell_type": "code",
   "execution_count": null,
   "id": "516b4142",
   "metadata": {},
   "outputs": [],
   "source": []
  }
 ],
 "metadata": {
  "kernelspec": {
   "display_name": "Python 3 (ipykernel)",
   "language": "python",
   "name": "python3"
  },
  "language_info": {
   "codemirror_mode": {
    "name": "ipython",
    "version": 3
   },
   "file_extension": ".py",
   "mimetype": "text/x-python",
   "name": "python",
   "nbconvert_exporter": "python",
   "pygments_lexer": "ipython3",
   "version": "3.9.13"
  },
  "vscode": {
   "interpreter": {
    "hash": "aee8b7b246df8f9039afb4144a1f6fd8d2ca17a180786b69acc140d282b71a49"
   }
  }
 },
 "nbformat": 4,
 "nbformat_minor": 5
}
