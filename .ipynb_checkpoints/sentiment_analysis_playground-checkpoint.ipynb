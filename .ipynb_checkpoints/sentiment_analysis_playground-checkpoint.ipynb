{
 "cells": [
  {
   "cell_type": "code",
   "execution_count": 1,
   "id": "5eb2389b",
   "metadata": {},
   "outputs": [],
   "source": [
    "from Cookbook import sentiment_analyze"
   ]
  },
  {
   "cell_type": "code",
   "execution_count": 2,
   "id": "cbb9b278",
   "metadata": {},
   "outputs": [
    {
     "name": "stdout",
     "output_type": "stream",
     "text": [
      "Tweet (Preprocessed): fuck!\n",
      "Negative: 0.928297221660614\n",
      "Neutral: 0.0571025088429451\n",
      "Positive: 0.014600222930312157\n"
     ]
    },
    {
     "data": {
      "text/plain": [
       "(['Negative', 'Neutral', 'Positive'],\n",
       " array([0.9282972 , 0.05710251, 0.01460022], dtype=float32))"
      ]
     },
     "execution_count": 2,
     "metadata": {},
     "output_type": "execute_result"
    }
   ],
   "source": [
    "sentiment_analyze('fuck!')"
   ]
  }
 ],
 "metadata": {
  "kernelspec": {
   "display_name": "Python 3 (ipykernel)",
   "language": "python",
   "name": "python3"
  },
  "language_info": {
   "codemirror_mode": {
    "name": "ipython",
    "version": 3
   },
   "file_extension": ".py",
   "mimetype": "text/x-python",
   "name": "python",
   "nbconvert_exporter": "python",
   "pygments_lexer": "ipython3",
   "version": "3.9.13"
  }
 },
 "nbformat": 4,
 "nbformat_minor": 5
}
