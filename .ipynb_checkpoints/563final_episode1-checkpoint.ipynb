{
 "cells": [
  {
   "cell_type": "code",
   "execution_count": 1,
   "id": "da63c915",
   "metadata": {},
   "outputs": [],
   "source": [
    "import tweepy\n",
    "import configparser\n",
    "import pandas as pd"
   ]
  },
  {
   "cell_type": "markdown",
   "id": "5a587cff",
   "metadata": {},
   "source": [
    "# Initialization of Tokens, Keys, & Twitter API"
   ]
  },
  {
   "cell_type": "code",
   "execution_count": 2,
   "id": "8a70e329",
   "metadata": {},
   "outputs": [],
   "source": [
    "config = configparser.ConfigParser()"
   ]
  },
  {
   "cell_type": "code",
   "execution_count": 3,
   "id": "05d77151",
   "metadata": {},
   "outputs": [
    {
     "data": {
      "text/plain": [
       "['config.ini']"
      ]
     },
     "execution_count": 3,
     "metadata": {},
     "output_type": "execute_result"
    }
   ],
   "source": [
    "config.read('config.ini')"
   ]
  },
  {
   "cell_type": "code",
   "execution_count": 4,
   "id": "201fe62a",
   "metadata": {},
   "outputs": [],
   "source": [
    "api_key = config['twitter']['api_key']\n",
    "api_key_secret = config['twitter']['api_key_secret']\n",
    "access_token = config['twitter']['access_token']\n",
    "access_token_secret = config['twitter']['access_token_secret']"
   ]
  },
  {
   "cell_type": "code",
   "execution_count": 5,
   "id": "f726e171",
   "metadata": {},
   "outputs": [],
   "source": [
    "auth = tweepy.OAuthHandler(api_key, api_key_secret)\n",
    "auth.set_access_token(access_token, access_token_secret)\n",
    "twitter_api = tweepy.API(auth)"
   ]
  },
  {
   "cell_type": "code",
   "execution_count": 6,
   "id": "6591c664",
   "metadata": {},
   "outputs": [],
   "source": [
    "home_tweets = twitter_api.home_timeline()"
   ]
  },
  {
   "cell_type": "code",
   "execution_count": 7,
   "id": "98a2f497",
   "metadata": {},
   "outputs": [
    {
     "data": {
      "text/plain": [
       "'Twitter Files release is most beneficial to humanity not because of what it revealed, but because it promotes a cul… https://t.co/3gGcBsbAN5'"
      ]
     },
     "execution_count": 7,
     "metadata": {},
     "output_type": "execute_result"
    }
   ],
   "source": [
    "home_tweets[0].text"
   ]
  },
  {
   "cell_type": "code",
   "execution_count": 8,
   "id": "f7bb8e57",
   "metadata": {
    "scrolled": true
   },
   "outputs": [
    {
     "name": "stdout",
     "output_type": "stream",
     "text": [
      "lexfridman\n",
      "48_quotes\n",
      "fasc1nate\n",
      "KAJI__OFFICIAL\n",
      "lexfridman\n",
      "fasc1nate\n",
      "fasc1nate\n",
      "fasc1nate\n",
      "fasc1nate\n",
      "48_quotes\n",
      "EckhartTolle\n",
      "fasc1nate\n",
      "fasc1nate\n",
      "fasc1nate\n",
      "SyracuseUNews\n",
      "fasc1nate\n",
      "SyracuseUNews\n",
      "fasc1nate\n"
     ]
    }
   ],
   "source": [
    "for t in home_tweets:\n",
    "    print(t.user.screen_name)"
   ]
  },
  {
   "cell_type": "code",
   "execution_count": 10,
   "id": "2fb94e2f",
   "metadata": {},
   "outputs": [
    {
     "data": {
      "text/plain": [
       "['__class__',\n",
       " '__delattr__',\n",
       " '__dict__',\n",
       " '__dir__',\n",
       " '__doc__',\n",
       " '__eq__',\n",
       " '__format__',\n",
       " '__ge__',\n",
       " '__getattribute__',\n",
       " '__getstate__',\n",
       " '__gt__',\n",
       " '__hash__',\n",
       " '__init__',\n",
       " '__init_subclass__',\n",
       " '__le__',\n",
       " '__lt__',\n",
       " '__module__',\n",
       " '__ne__',\n",
       " '__new__',\n",
       " '__reduce__',\n",
       " '__reduce_ex__',\n",
       " '__repr__',\n",
       " '__setattr__',\n",
       " '__sizeof__',\n",
       " '__slots__',\n",
       " '__str__',\n",
       " '__subclasshook__',\n",
       " '__weakref__',\n",
       " '_api',\n",
       " '_json',\n",
       " 'contributors_enabled',\n",
       " 'created_at',\n",
       " 'default_profile',\n",
       " 'default_profile_image',\n",
       " 'description',\n",
       " 'entities',\n",
       " 'favourites_count',\n",
       " 'follow',\n",
       " 'follow_request_sent',\n",
       " 'follower_ids',\n",
       " 'followers',\n",
       " 'followers_count',\n",
       " 'following',\n",
       " 'friends',\n",
       " 'friends_count',\n",
       " 'geo_enabled',\n",
       " 'has_extended_profile',\n",
       " 'id',\n",
       " 'id_str',\n",
       " 'is_translation_enabled',\n",
       " 'is_translator',\n",
       " 'lang',\n",
       " 'list_memberships',\n",
       " 'list_ownerships',\n",
       " 'list_subscriptions',\n",
       " 'listed_count',\n",
       " 'lists',\n",
       " 'location',\n",
       " 'name',\n",
       " 'notifications',\n",
       " 'parse',\n",
       " 'parse_list',\n",
       " 'profile_background_color',\n",
       " 'profile_background_image_url',\n",
       " 'profile_background_image_url_https',\n",
       " 'profile_background_tile',\n",
       " 'profile_banner_url',\n",
       " 'profile_image_url',\n",
       " 'profile_image_url_https',\n",
       " 'profile_link_color',\n",
       " 'profile_sidebar_border_color',\n",
       " 'profile_sidebar_fill_color',\n",
       " 'profile_text_color',\n",
       " 'profile_use_background_image',\n",
       " 'protected',\n",
       " 'screen_name',\n",
       " 'statuses_count',\n",
       " 'time_zone',\n",
       " 'timeline',\n",
       " 'translator_type',\n",
       " 'unfollow',\n",
       " 'url',\n",
       " 'utc_offset',\n",
       " 'verified',\n",
       " 'withheld_in_countries']"
      ]
     },
     "execution_count": 10,
     "metadata": {},
     "output_type": "execute_result"
    }
   ],
   "source": [
    "dir(home_tweets[0].user)"
   ]
  },
  {
   "cell_type": "markdown",
   "id": "c23e075c",
   "metadata": {},
   "source": [
    "# Saving Data To CSV (with Pandas!)"
   ]
  },
  {
   "cell_type": "code",
   "execution_count": 26,
   "id": "375f419f",
   "metadata": {},
   "outputs": [],
   "source": [
    "# create list that is appended into a df\n",
    "# 3 attributes -> tweet, time, user\n",
    "# iterate and gather\n",
    "# save to csv"
   ]
  },
  {
   "cell_type": "code",
   "execution_count": 38,
   "id": "b60e1e74",
   "metadata": {},
   "outputs": [],
   "source": [
    "data = []\n",
    "cols = ['Tweet', 'User', 'Time']\n",
    "for tweet in home_tweets:\n",
    "    data.append([tweet.text, tweet.user.screen_name, tweet.created_at])\n",
    "df = pd.DataFrame(data, columns=cols)"
   ]
  },
  {
   "cell_type": "code",
   "execution_count": 39,
   "id": "0579d1ab",
   "metadata": {},
   "outputs": [
    {
     "data": {
      "text/html": [
       "<div>\n",
       "<style scoped>\n",
       "    .dataframe tbody tr th:only-of-type {\n",
       "        vertical-align: middle;\n",
       "    }\n",
       "\n",
       "    .dataframe tbody tr th {\n",
       "        vertical-align: top;\n",
       "    }\n",
       "\n",
       "    .dataframe thead th {\n",
       "        text-align: right;\n",
       "    }\n",
       "</style>\n",
       "<table border=\"1\" class=\"dataframe\">\n",
       "  <thead>\n",
       "    <tr style=\"text-align: right;\">\n",
       "      <th></th>\n",
       "      <th>Tweet</th>\n",
       "      <th>User</th>\n",
       "      <th>Time</th>\n",
       "    </tr>\n",
       "  </thead>\n",
       "  <tbody>\n",
       "    <tr>\n",
       "      <th>0</th>\n",
       "      <td>RT @kitaroanime50th: 【 #ゲゲゲ忌2022 トークセッション】\\n #...</td>\n",
       "      <td>KAJI__OFFICIAL</td>\n",
       "      <td>2022-11-12 04:19:06+00:00</td>\n",
       "    </tr>\n",
       "    <tr>\n",
       "      <th>1</th>\n",
       "      <td>これよ…これだったのよ…！\\n舞台挨拶で言ってた楽曲は…！！\\n\\nまさかの三浦大知さん！\\...</td>\n",
       "      <td>KAJI__OFFICIAL</td>\n",
       "      <td>2022-11-12 04:14:00+00:00</td>\n",
       "    </tr>\n",
       "    <tr>\n",
       "      <th>2</th>\n",
       "      <td>RT @tonsuki_anime: ／　\\n🍚サイン色紙プレゼントキャンペーン🍚\\n＼\\n...</td>\n",
       "      <td>MAPPA_Info</td>\n",
       "      <td>2022-11-12 02:34:47+00:00</td>\n",
       "    </tr>\n",
       "    <tr>\n",
       "      <th>3</th>\n",
       "      <td>\"Every time we become aware of a thought, as o...</td>\n",
       "      <td>InsightTimer</td>\n",
       "      <td>2022-11-12 01:57:00+00:00</td>\n",
       "    </tr>\n",
       "    <tr>\n",
       "      <th>4</th>\n",
       "      <td>Stay tuned to local stories to hear from @Syra...</td>\n",
       "      <td>SyracuseUNews</td>\n",
       "      <td>2022-11-11 20:26:50+00:00</td>\n",
       "    </tr>\n",
       "    <tr>\n",
       "      <th>5</th>\n",
       "      <td>Little ways to feel some joy some this fall: \\...</td>\n",
       "      <td>Headspace</td>\n",
       "      <td>2022-11-11 19:02:01+00:00</td>\n",
       "    </tr>\n",
       "    <tr>\n",
       "      <th>6</th>\n",
       "      <td>.@SyracuseU Chancellor Kent Syverud says every...</td>\n",
       "      <td>SyracuseUNews</td>\n",
       "      <td>2022-11-11 16:40:47+00:00</td>\n",
       "    </tr>\n",
       "    <tr>\n",
       "      <th>7</th>\n",
       "      <td>Holding onto negativity can turn any sweet thi...</td>\n",
       "      <td>Headspace</td>\n",
       "      <td>2022-11-11 16:19:01+00:00</td>\n",
       "    </tr>\n",
       "    <tr>\n",
       "      <th>8</th>\n",
       "      <td>RT @IVMFSyracuseU: Veterans Day is a time to p...</td>\n",
       "      <td>SyracuseUNews</td>\n",
       "      <td>2022-11-11 14:07:35+00:00</td>\n",
       "    </tr>\n",
       "    <tr>\n",
       "      <th>9</th>\n",
       "      <td>“Every day is #VeteransDay at Syracuse Univers...</td>\n",
       "      <td>SyracuseUNews</td>\n",
       "      <td>2022-11-11 13:04:29+00:00</td>\n",
       "    </tr>\n",
       "    <tr>\n",
       "      <th>10</th>\n",
       "      <td>RT @DarylLovell: #ICYMI: @SyracuseOVMA executi...</td>\n",
       "      <td>SyracuseUNews</td>\n",
       "      <td>2022-11-11 13:02:52+00:00</td>\n",
       "    </tr>\n",
       "    <tr>\n",
       "      <th>11</th>\n",
       "      <td>作家と声優、ものづくり。\\n川上さんとは初対面だったにも関わらず、\\nかなりディープなお話が...</td>\n",
       "      <td>KAJI__OFFICIAL</td>\n",
       "      <td>2022-11-11 12:40:21+00:00</td>\n",
       "    </tr>\n",
       "    <tr>\n",
       "      <th>12</th>\n",
       "      <td>サトシ！！！</td>\n",
       "      <td>KAJI__OFFICIAL</td>\n",
       "      <td>2022-11-11 11:46:46+00:00</td>\n",
       "    </tr>\n",
       "    <tr>\n",
       "      <th>13</th>\n",
       "      <td>RT @voguejp: 「職業声優としての期待と不安も感じます」\\n「作家はゼロからイチを...</td>\n",
       "      <td>KAJI__OFFICIAL</td>\n",
       "      <td>2022-11-11 11:02:39+00:00</td>\n",
       "    </tr>\n",
       "    <tr>\n",
       "      <th>14</th>\n",
       "      <td>This Mastering Breathwork Challenge is aimed a...</td>\n",
       "      <td>InsightTimer</td>\n",
       "      <td>2022-11-11 09:36:44+00:00</td>\n",
       "    </tr>\n",
       "    <tr>\n",
       "      <th>15</th>\n",
       "      <td>【新商品情報】\\n『#チェンソーマン 』より\\nミニキャラクターを使用したグッズ、\\n公安を...</td>\n",
       "      <td>MAPPA_Info</td>\n",
       "      <td>2022-11-11 08:32:55+00:00</td>\n",
       "    </tr>\n",
       "    <tr>\n",
       "      <th>16</th>\n",
       "      <td>RT @Valentino_Japan: 梶裕貴 ✕ 川上未映子対談 - 言葉と声の可能性を...</td>\n",
       "      <td>KAJI__OFFICIAL</td>\n",
       "      <td>2022-11-11 08:05:59+00:00</td>\n",
       "    </tr>\n",
       "    <tr>\n",
       "      <th>17</th>\n",
       "      <td>RT @hyogokoho: #18歳になったら成人してた件\\n\\n豪華 #声優 陣をお迎え...</td>\n",
       "      <td>KAJI__OFFICIAL</td>\n",
       "      <td>2022-11-11 07:51:26+00:00</td>\n",
       "    </tr>\n",
       "    <tr>\n",
       "      <th>18</th>\n",
       "      <td>兵庫県発・消費者トラブル回避SLゲーム\\n『#18歳になったら成人してた件』\\n\\n田真玲爽...</td>\n",
       "      <td>KAJI__OFFICIAL</td>\n",
       "      <td>2022-11-11 06:18:15+00:00</td>\n",
       "    </tr>\n",
       "  </tbody>\n",
       "</table>\n",
       "</div>"
      ],
      "text/plain": [
       "                                                Tweet            User  \\\n",
       "0   RT @kitaroanime50th: 【 #ゲゲゲ忌2022 トークセッション】\\n #...  KAJI__OFFICIAL   \n",
       "1   これよ…これだったのよ…！\\n舞台挨拶で言ってた楽曲は…！！\\n\\nまさかの三浦大知さん！\\...  KAJI__OFFICIAL   \n",
       "2   RT @tonsuki_anime: ／　\\n🍚サイン色紙プレゼントキャンペーン🍚\\n＼\\n...      MAPPA_Info   \n",
       "3   \"Every time we become aware of a thought, as o...    InsightTimer   \n",
       "4   Stay tuned to local stories to hear from @Syra...   SyracuseUNews   \n",
       "5   Little ways to feel some joy some this fall: \\...       Headspace   \n",
       "6   .@SyracuseU Chancellor Kent Syverud says every...   SyracuseUNews   \n",
       "7   Holding onto negativity can turn any sweet thi...       Headspace   \n",
       "8   RT @IVMFSyracuseU: Veterans Day is a time to p...   SyracuseUNews   \n",
       "9   “Every day is #VeteransDay at Syracuse Univers...   SyracuseUNews   \n",
       "10  RT @DarylLovell: #ICYMI: @SyracuseOVMA executi...   SyracuseUNews   \n",
       "11  作家と声優、ものづくり。\\n川上さんとは初対面だったにも関わらず、\\nかなりディープなお話が...  KAJI__OFFICIAL   \n",
       "12                                             サトシ！！！  KAJI__OFFICIAL   \n",
       "13  RT @voguejp: 「職業声優としての期待と不安も感じます」\\n「作家はゼロからイチを...  KAJI__OFFICIAL   \n",
       "14  This Mastering Breathwork Challenge is aimed a...    InsightTimer   \n",
       "15  【新商品情報】\\n『#チェンソーマン 』より\\nミニキャラクターを使用したグッズ、\\n公安を...      MAPPA_Info   \n",
       "16  RT @Valentino_Japan: 梶裕貴 ✕ 川上未映子対談 - 言葉と声の可能性を...  KAJI__OFFICIAL   \n",
       "17  RT @hyogokoho: #18歳になったら成人してた件\\n\\n豪華 #声優 陣をお迎え...  KAJI__OFFICIAL   \n",
       "18  兵庫県発・消費者トラブル回避SLゲーム\\n『#18歳になったら成人してた件』\\n\\n田真玲爽...  KAJI__OFFICIAL   \n",
       "\n",
       "                        Time  \n",
       "0  2022-11-12 04:19:06+00:00  \n",
       "1  2022-11-12 04:14:00+00:00  \n",
       "2  2022-11-12 02:34:47+00:00  \n",
       "3  2022-11-12 01:57:00+00:00  \n",
       "4  2022-11-11 20:26:50+00:00  \n",
       "5  2022-11-11 19:02:01+00:00  \n",
       "6  2022-11-11 16:40:47+00:00  \n",
       "7  2022-11-11 16:19:01+00:00  \n",
       "8  2022-11-11 14:07:35+00:00  \n",
       "9  2022-11-11 13:04:29+00:00  \n",
       "10 2022-11-11 13:02:52+00:00  \n",
       "11 2022-11-11 12:40:21+00:00  \n",
       "12 2022-11-11 11:46:46+00:00  \n",
       "13 2022-11-11 11:02:39+00:00  \n",
       "14 2022-11-11 09:36:44+00:00  \n",
       "15 2022-11-11 08:32:55+00:00  \n",
       "16 2022-11-11 08:05:59+00:00  \n",
       "17 2022-11-11 07:51:26+00:00  \n",
       "18 2022-11-11 06:18:15+00:00  "
      ]
     },
     "execution_count": 39,
     "metadata": {},
     "output_type": "execute_result"
    }
   ],
   "source": [
    "df"
   ]
  },
  {
   "cell_type": "code",
   "execution_count": 40,
   "id": "3c622ec6",
   "metadata": {},
   "outputs": [],
   "source": [
    "df.to_csv('sample_tweets.csv')"
   ]
  }
 ],
 "metadata": {
  "kernelspec": {
   "display_name": "Python 3 (ipykernel)",
   "language": "python",
   "name": "python3"
  },
  "language_info": {
   "codemirror_mode": {
    "name": "ipython",
    "version": 3
   },
   "file_extension": ".py",
   "mimetype": "text/x-python",
   "name": "python",
   "nbconvert_exporter": "python",
   "pygments_lexer": "ipython3",
   "version": "3.9.13"
  },
  "vscode": {
   "interpreter": {
    "hash": "aee8b7b246df8f9039afb4144a1f6fd8d2ca17a180786b69acc140d282b71a49"
   }
  }
 },
 "nbformat": 4,
 "nbformat_minor": 5
}
