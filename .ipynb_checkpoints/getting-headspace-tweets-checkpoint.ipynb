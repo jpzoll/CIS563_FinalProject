{
 "cells": [
  {
   "cell_type": "markdown",
   "id": "e3e832d7",
   "metadata": {},
   "source": [
    "# Getting large quantity of tweets from followers of Headspace account\n",
    "## Headspace is a beginner friendly meditation app that focuses on meditation AND mental health"
   ]
  },
  {
   "cell_type": "code",
   "execution_count": 25,
   "id": "6fb332da",
   "metadata": {},
   "outputs": [],
   "source": [
    "import tweepy\n",
    "import pandas as pd\n",
    "import configparser"
   ]
  },
  {
   "cell_type": "code",
   "execution_count": 27,
   "id": "ab703e78",
   "metadata": {},
   "outputs": [],
   "source": [
    "# Import Twitter\n",
    "config = configparser.ConfigParser()\n",
    "config.read('config.ini')\n",
    "\n",
    "api_key = config['twitter']['api_key']\n",
    "api_key_secret = config['twitter']['api_key_secret']\n",
    "access_token = config['twitter']['access_token']\n",
    "access_token_secret = config['twitter']['access_token_secret']\n",
    "\n",
    "auth = tweepy.OAuthHandler(api_key, api_key_secret)\n",
    "auth.set_access_token(access_token, access_token_secret)\n",
    "twitter = tweepy.API(auth)"
   ]
  },
  {
   "cell_type": "code",
   "execution_count": 106,
   "id": "69247e89",
   "metadata": {},
   "outputs": [],
   "source": [
    "# Get Headspace\n",
    "headspace = twitter.get_user(screen_name='Headspace')\n",
    "headspace_timeline = headspace.timeline()\n",
    "headspace_followers = twitter.get_followers(screen_name='Headspace', count=25)"
   ]
  },
  {
   "cell_type": "markdown",
   "id": "418a5295",
   "metadata": {},
   "source": [
    "# Demo (Simple): 1 User"
   ]
  },
  {
   "cell_type": "code",
   "execution_count": 136,
   "id": "6a0dc1fa",
   "metadata": {
    "scrolled": true
   },
   "outputs": [
    {
     "name": "stdout",
     "output_type": "stream",
     "text": [
      "Gra6011\n"
     ]
    }
   ],
   "source": [
    "# Get 1 Follower of Headspace\n",
    "x = headspace_followers[0]\n",
    "i = 0\n",
    "for f in headspace_followers:\n",
    "    if f.timeline():\n",
    "        print(f.screen_name)\n",
    "        demo_user = f\n",
    "        break\n",
    "    i += 1\n",
    "# Get 10 Tweets from follower\n",
    "demo_timeline = f.timeline()\n",
    "demo_tweets = []\n",
    "i = 0\n",
    "while (i <= 10) and (i < len(demo_timeline)):\n",
    "    status = demo_timeline[i]\n",
    "    demo_tweets.append(status.text)\n",
    "    i += 1"
   ]
  },
  {
   "cell_type": "markdown",
   "id": "d97b085f",
   "metadata": {},
   "source": [
    "# Demo: All timeline tweets for 10+ users"
   ]
  },
  {
   "cell_type": "code",
   "execution_count": 137,
   "id": "fbeb1657",
   "metadata": {},
   "outputs": [],
   "source": [
    "dict_tweets = {\n",
    "    'user': [],\n",
    "    'tweet': [],\n",
    "    'source': []\n",
    "}\n",
    "\n",
    "for i in range(len(headspace_followers)):\n",
    "    curr_user = headspace_followers[i]\n",
    "    curr_timeline = curr_user.timeline()\n",
    "    for tweet in curr_timeline:\n",
    "        dict_tweets['user'].append(curr_user.screen_name)\n",
    "        dict_tweets['tweet'].append(tweet.text)\n",
    "        dict_tweets['source'].append(tweet.source)\n"
   ]
  },
  {
   "cell_type": "code",
   "execution_count": 138,
   "id": "b52db211",
   "metadata": {},
   "outputs": [],
   "source": [
    "df = pd.DataFrame.from_dict(dict_tweets)"
   ]
  },
  {
   "cell_type": "code",
   "execution_count": 139,
   "id": "d00f1bfb",
   "metadata": {},
   "outputs": [],
   "source": [
    "df.to_csv('data/sample_headspace_user_tweets.csv')"
   ]
  }
 ],
 "metadata": {
  "kernelspec": {
   "display_name": "Python 3 (ipykernel)",
   "language": "python",
   "name": "python3"
  },
  "language_info": {
   "codemirror_mode": {
    "name": "ipython",
    "version": 3
   },
   "file_extension": ".py",
   "mimetype": "text/x-python",
   "name": "python",
   "nbconvert_exporter": "python",
   "pygments_lexer": "ipython3",
   "version": "3.9.13"
  }
 },
 "nbformat": 4,
 "nbformat_minor": 5
}
