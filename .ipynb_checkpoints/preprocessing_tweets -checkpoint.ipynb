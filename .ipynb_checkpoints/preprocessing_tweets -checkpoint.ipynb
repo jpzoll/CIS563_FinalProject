{
 "cells": [
  {
   "cell_type": "code",
   "execution_count": 1,
   "id": "f4a56f4b",
   "metadata": {},
   "outputs": [],
   "source": [
    "import tweepy as tw\n",
    "import numpy as np\n",
    "import pandas as pd \n",
    "import matplotlib.pyplot as plt "
   ]
  },
  {
   "cell_type": "code",
   "execution_count": 12,
   "id": "66b68b57",
   "metadata": {},
   "outputs": [],
   "source": [
    "# pip install tweepy\n",
    "# pip install textblob"
   ]
  },
  {
   "cell_type": "code",
   "execution_count": 2,
   "id": "019b4917",
   "metadata": {},
   "outputs": [],
   "source": [
    "data=pd.read_csv(\"data/mental_health_tweets.csv\")"
   ]
  },
  {
   "cell_type": "code",
   "execution_count": 3,
   "id": "785cb72d",
   "metadata": {},
   "outputs": [
    {
     "data": {
      "text/html": [
       "<div>\n",
       "<style scoped>\n",
       "    .dataframe tbody tr th:only-of-type {\n",
       "        vertical-align: middle;\n",
       "    }\n",
       "\n",
       "    .dataframe tbody tr th {\n",
       "        vertical-align: top;\n",
       "    }\n",
       "\n",
       "    .dataframe thead th {\n",
       "        text-align: right;\n",
       "    }\n",
       "</style>\n",
       "<table border=\"1\" class=\"dataframe\">\n",
       "  <thead>\n",
       "    <tr style=\"text-align: right;\">\n",
       "      <th></th>\n",
       "      <th>Unnamed: 0</th>\n",
       "      <th>text</th>\n",
       "    </tr>\n",
       "  </thead>\n",
       "  <tbody>\n",
       "    <tr>\n",
       "      <th>0</th>\n",
       "      <td>0</td>\n",
       "      <td>RT @FundraiserDan: Keep reminding yourself thi...</td>\n",
       "    </tr>\n",
       "    <tr>\n",
       "      <th>1</th>\n",
       "      <td>1</td>\n",
       "      <td>#Fight #VeteransUnite #Veterans #VeteransAware...</td>\n",
       "    </tr>\n",
       "    <tr>\n",
       "      <th>2</th>\n",
       "      <td>2</td>\n",
       "      <td>You may say I'm a dreamer.. #Lennon\\n\\n#JoyTra...</td>\n",
       "    </tr>\n",
       "    <tr>\n",
       "      <th>3</th>\n",
       "      <td>3</td>\n",
       "      <td>Ready To Press DTF Transfer With GOD All Thing...</td>\n",
       "    </tr>\n",
       "    <tr>\n",
       "      <th>4</th>\n",
       "      <td>4</td>\n",
       "      <td>RT @OkeloJavan: Mental health is an important ...</td>\n",
       "    </tr>\n",
       "  </tbody>\n",
       "</table>\n",
       "</div>"
      ],
      "text/plain": [
       "   Unnamed: 0                                               text\n",
       "0           0  RT @FundraiserDan: Keep reminding yourself thi...\n",
       "1           1  #Fight #VeteransUnite #Veterans #VeteransAware...\n",
       "2           2  You may say I'm a dreamer.. #Lennon\\n\\n#JoyTra...\n",
       "3           3  Ready To Press DTF Transfer With GOD All Thing...\n",
       "4           4  RT @OkeloJavan: Mental health is an important ..."
      ]
     },
     "execution_count": 3,
     "metadata": {},
     "output_type": "execute_result"
    }
   ],
   "source": [
    "data.head()"
   ]
  },
  {
   "cell_type": "code",
   "execution_count": 4,
   "id": "90be7bc2",
   "metadata": {},
   "outputs": [],
   "source": [
    "yoga_refs=[\"yoga\",\"meditation\",\"meditate\",\"breathwork\",\"Yoga\",\"Meditation\",\"Meditate\", \"mindfulness\", \"mindful\", \"mantra\", \"wim hoff\", \"pranayama\", \"vipassana\"]\n",
    "therapy_refs=[\"therapy\",\"counseling\",\"Therapy\",\"Counseling\", \"CBT\", \"ACT\", \"psychotherapy\", \"therapist\", \"group therapy\"]\n",
    "workout_refs =[\"workout\",\"exercise\",\"exercising\",\"weighttraining\", \"weight training\", \"Workout\",\"Exercise\",\"Exercising\", \"exercise\" \"running\", \"lifting\", \"cardio\",\"fitness\"]"
   ]
  },
  {
   "cell_type": "code",
   "execution_count": 5,
   "id": "de39507d",
   "metadata": {},
   "outputs": [],
   "source": [
    "def identify_subject(tweet,refs):\n",
    "    flag = 0\n",
    "    for ref in refs:\n",
    "        if tweet.find(ref) !=-1:\n",
    "            flag = 1\n",
    "    return flag\n",
    "data[\"yoga\"]= data[\"text\"].apply(lambda x: identify_subject(x,yoga_refs))\n",
    "data[\"therapy\"]= data[\"text\"].apply(lambda x: identify_subject(x,therapy_refs))\n",
    "data[\"workout\"]= data[\"text\"].apply(lambda x: identify_subject(x,workout_refs))"
   ]
  },
  {
   "cell_type": "code",
   "execution_count": 6,
   "id": "53907539",
   "metadata": {
    "scrolled": false
   },
   "outputs": [
    {
     "data": {
      "text/html": [
       "<div>\n",
       "<style scoped>\n",
       "    .dataframe tbody tr th:only-of-type {\n",
       "        vertical-align: middle;\n",
       "    }\n",
       "\n",
       "    .dataframe tbody tr th {\n",
       "        vertical-align: top;\n",
       "    }\n",
       "\n",
       "    .dataframe thead th {\n",
       "        text-align: right;\n",
       "    }\n",
       "</style>\n",
       "<table border=\"1\" class=\"dataframe\">\n",
       "  <thead>\n",
       "    <tr style=\"text-align: right;\">\n",
       "      <th></th>\n",
       "      <th>Unnamed: 0</th>\n",
       "      <th>text</th>\n",
       "      <th>yoga</th>\n",
       "      <th>therapy</th>\n",
       "      <th>workout</th>\n",
       "    </tr>\n",
       "  </thead>\n",
       "  <tbody>\n",
       "    <tr>\n",
       "      <th>0</th>\n",
       "      <td>0</td>\n",
       "      <td>RT @FundraiserDan: Keep reminding yourself thi...</td>\n",
       "      <td>0</td>\n",
       "      <td>0</td>\n",
       "      <td>0</td>\n",
       "    </tr>\n",
       "    <tr>\n",
       "      <th>1</th>\n",
       "      <td>1</td>\n",
       "      <td>#Fight #VeteransUnite #Veterans #VeteransAware...</td>\n",
       "      <td>0</td>\n",
       "      <td>0</td>\n",
       "      <td>0</td>\n",
       "    </tr>\n",
       "    <tr>\n",
       "      <th>2</th>\n",
       "      <td>2</td>\n",
       "      <td>You may say I'm a dreamer.. #Lennon\\n\\n#JoyTra...</td>\n",
       "      <td>0</td>\n",
       "      <td>0</td>\n",
       "      <td>0</td>\n",
       "    </tr>\n",
       "    <tr>\n",
       "      <th>3</th>\n",
       "      <td>3</td>\n",
       "      <td>Ready To Press DTF Transfer With GOD All Thing...</td>\n",
       "      <td>0</td>\n",
       "      <td>0</td>\n",
       "      <td>0</td>\n",
       "    </tr>\n",
       "    <tr>\n",
       "      <th>4</th>\n",
       "      <td>4</td>\n",
       "      <td>RT @OkeloJavan: Mental health is an important ...</td>\n",
       "      <td>0</td>\n",
       "      <td>0</td>\n",
       "      <td>0</td>\n",
       "    </tr>\n",
       "  </tbody>\n",
       "</table>\n",
       "</div>"
      ],
      "text/plain": [
       "   Unnamed: 0                                               text  yoga  \\\n",
       "0           0  RT @FundraiserDan: Keep reminding yourself thi...     0   \n",
       "1           1  #Fight #VeteransUnite #Veterans #VeteransAware...     0   \n",
       "2           2  You may say I'm a dreamer.. #Lennon\\n\\n#JoyTra...     0   \n",
       "3           3  Ready To Press DTF Transfer With GOD All Thing...     0   \n",
       "4           4  RT @OkeloJavan: Mental health is an important ...     0   \n",
       "\n",
       "   therapy  workout  \n",
       "0        0        0  \n",
       "1        0        0  \n",
       "2        0        0  \n",
       "3        0        0  \n",
       "4        0        0  "
      ]
     },
     "execution_count": 6,
     "metadata": {},
     "output_type": "execute_result"
    }
   ],
   "source": [
    "data.head()"
   ]
  },
  {
   "cell_type": "code",
   "execution_count": 7,
   "id": "516492c8",
   "metadata": {
    "scrolled": false
   },
   "outputs": [],
   "source": [
    "import nltk\n",
    "from nltk.corpus import stopwords\n",
    "from textblob import Word, TextBlob"
   ]
  },
  {
   "cell_type": "code",
   "execution_count": 8,
   "id": "ac68dbda",
   "metadata": {},
   "outputs": [
    {
     "name": "stderr",
     "output_type": "stream",
     "text": [
      "[nltk_data] Downloading package stopwords to\n",
      "[nltk_data]     /Users/joezoll/nltk_data...\n",
      "[nltk_data]   Package stopwords is already up-to-date!\n",
      "[nltk_data] Downloading package wordnet to /Users/joezoll/nltk_data...\n",
      "[nltk_data]   Package wordnet is already up-to-date!\n",
      "[nltk_data] Downloading package omw-1.4 to /Users/joezoll/nltk_data...\n",
      "[nltk_data]   Package omw-1.4 is already up-to-date!\n"
     ]
    },
    {
     "data": {
      "text/plain": [
       "True"
      ]
     },
     "execution_count": 8,
     "metadata": {},
     "output_type": "execute_result"
    }
   ],
   "source": [
    "nltk.download(\"stopwords\")\n",
    "nltk.download(\"wordnet\")\n",
    "stop_words = stopwords.words(\"english\")\n",
    "custom_stopwords = [\"RT\",\"#mentalhealth\"]\n",
    "nltk.download('omw-1.4')"
   ]
  },
  {
   "cell_type": "code",
   "execution_count": 9,
   "id": "3d592911",
   "metadata": {},
   "outputs": [],
   "source": [
    "def preprocess_tweets(tweet, custom_stopwords):\n",
    "    preprocessed_tweet = tweet\n",
    "    preprocessed_tweet.replace('[^\\w\\s]','')\n",
    "    preprocessed_tweet = \" \".join(word for word in preprocessed_tweet.split() if word not in stop_words)\n",
    "    preprocessed_tweet = \" \".join(word for word in preprocessed_tweet.split() if word not in custom_stopwords)\n",
    "    preprocessed_tweet = \" \".join(Word(word).lemmatize()for word in preprocessed_tweet.split())\n",
    "    return(preprocessed_tweet)\n",
    "\n",
    "data[\"Processed_tweet\"] = data['text'].apply(lambda x: preprocess_tweets(x,custom_stopwords))"
   ]
  },
  {
   "cell_type": "code",
   "execution_count": 10,
   "id": "804a1b3f",
   "metadata": {},
   "outputs": [
    {
     "data": {
      "text/html": [
       "<div>\n",
       "<style scoped>\n",
       "    .dataframe tbody tr th:only-of-type {\n",
       "        vertical-align: middle;\n",
       "    }\n",
       "\n",
       "    .dataframe tbody tr th {\n",
       "        vertical-align: top;\n",
       "    }\n",
       "\n",
       "    .dataframe thead th {\n",
       "        text-align: right;\n",
       "    }\n",
       "</style>\n",
       "<table border=\"1\" class=\"dataframe\">\n",
       "  <thead>\n",
       "    <tr style=\"text-align: right;\">\n",
       "      <th></th>\n",
       "      <th>Unnamed: 0</th>\n",
       "      <th>text</th>\n",
       "      <th>yoga</th>\n",
       "      <th>therapy</th>\n",
       "      <th>workout</th>\n",
       "      <th>Processed_tweet</th>\n",
       "    </tr>\n",
       "  </thead>\n",
       "  <tbody>\n",
       "    <tr>\n",
       "      <th>0</th>\n",
       "      <td>0</td>\n",
       "      <td>RT @FundraiserDan: Keep reminding yourself thi...</td>\n",
       "      <td>0</td>\n",
       "      <td>0</td>\n",
       "      <td>0</td>\n",
       "      <td>@FundraiserDan: Keep reminding this: Burning m...</td>\n",
       "    </tr>\n",
       "    <tr>\n",
       "      <th>1</th>\n",
       "      <td>1</td>\n",
       "      <td>#Fight #VeteransUnite #Veterans #VeteransAware...</td>\n",
       "      <td>0</td>\n",
       "      <td>0</td>\n",
       "      <td>0</td>\n",
       "      <td>#Fight #VeteransUnite #Veterans #VeteransAware...</td>\n",
       "    </tr>\n",
       "    <tr>\n",
       "      <th>2</th>\n",
       "      <td>2</td>\n",
       "      <td>You may say I'm a dreamer.. #Lennon\\n\\n#JoyTra...</td>\n",
       "      <td>0</td>\n",
       "      <td>0</td>\n",
       "      <td>0</td>\n",
       "      <td>You may say I'm dreamer.. #Lennon #JoyTrain #J...</td>\n",
       "    </tr>\n",
       "    <tr>\n",
       "      <th>3</th>\n",
       "      <td>3</td>\n",
       "      <td>Ready To Press DTF Transfer With GOD All Thing...</td>\n",
       "      <td>0</td>\n",
       "      <td>0</td>\n",
       "      <td>0</td>\n",
       "      <td>Ready To Press DTF Transfer With GOD All Thing...</td>\n",
       "    </tr>\n",
       "    <tr>\n",
       "      <th>4</th>\n",
       "      <td>4</td>\n",
       "      <td>RT @OkeloJavan: Mental health is an important ...</td>\n",
       "      <td>0</td>\n",
       "      <td>0</td>\n",
       "      <td>0</td>\n",
       "      <td>@OkeloJavan: Mental health important topic nev...</td>\n",
       "    </tr>\n",
       "  </tbody>\n",
       "</table>\n",
       "</div>"
      ],
      "text/plain": [
       "   Unnamed: 0                                               text  yoga  \\\n",
       "0           0  RT @FundraiserDan: Keep reminding yourself thi...     0   \n",
       "1           1  #Fight #VeteransUnite #Veterans #VeteransAware...     0   \n",
       "2           2  You may say I'm a dreamer.. #Lennon\\n\\n#JoyTra...     0   \n",
       "3           3  Ready To Press DTF Transfer With GOD All Thing...     0   \n",
       "4           4  RT @OkeloJavan: Mental health is an important ...     0   \n",
       "\n",
       "   therapy  workout                                    Processed_tweet  \n",
       "0        0        0  @FundraiserDan: Keep reminding this: Burning m...  \n",
       "1        0        0  #Fight #VeteransUnite #Veterans #VeteransAware...  \n",
       "2        0        0  You may say I'm dreamer.. #Lennon #JoyTrain #J...  \n",
       "3        0        0  Ready To Press DTF Transfer With GOD All Thing...  \n",
       "4        0        0  @OkeloJavan: Mental health important topic nev...  "
      ]
     },
     "execution_count": 10,
     "metadata": {},
     "output_type": "execute_result"
    }
   ],
   "source": [
    "data.head()"
   ]
  },
  {
   "cell_type": "code",
   "execution_count": 11,
   "id": "8807f3e3",
   "metadata": {},
   "outputs": [],
   "source": [
    "data.to_csv(\"data/processed_data.csv\", index=False)"
   ]
  }
 ],
 "metadata": {
  "kernelspec": {
   "display_name": "Python 3 (ipykernel)",
   "language": "python",
   "name": "python3"
  },
  "language_info": {
   "codemirror_mode": {
    "name": "ipython",
    "version": 3
   },
   "file_extension": ".py",
   "mimetype": "text/x-python",
   "name": "python",
   "nbconvert_exporter": "python",
   "pygments_lexer": "ipython3",
   "version": "3.9.13"
  }
 },
 "nbformat": 4,
 "nbformat_minor": 5
}
