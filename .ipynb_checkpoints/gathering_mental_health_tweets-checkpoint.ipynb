{
 "cells": [
  {
   "cell_type": "code",
   "execution_count": 1,
   "id": "161b5084",
   "metadata": {},
   "outputs": [],
   "source": [
    "import tweepy\n",
    "import configparser"
   ]
  },
  {
   "cell_type": "markdown",
   "id": "83a1c208",
   "metadata": {},
   "source": [
    "# Authenticate Twitter"
   ]
  },
  {
   "cell_type": "code",
   "execution_count": 2,
   "id": "43569972",
   "metadata": {},
   "outputs": [],
   "source": [
    "import tweepy\n",
    "import configparser\n",
    "import pandas as pd\n",
    "\n",
    "config = configparser.ConfigParser()\n",
    "\n",
    "config.read('config.ini')\n",
    "\n",
    "api_key = config['twitter']['api_key']\n",
    "api_key_secret = config['twitter']['api_key_secret']\n",
    "access_token = config['twitter']['access_token']\n",
    "access_token_secret = config['twitter']['access_token_secret']\n",
    "\n",
    "auth = tweepy.OAuthHandler(api_key, api_key_secret)\n",
    "auth.set_access_token(access_token, access_token_secret)\n",
    "twitter = tweepy.API(auth, wait_on_rate_limit=True)"
   ]
  },
  {
   "cell_type": "markdown",
   "id": "67c558bf",
   "metadata": {},
   "source": [
    "# Gather 2000+ Tweets"
   ]
  },
  {
   "cell_type": "code",
   "execution_count": 3,
   "id": "c400aa26",
   "metadata": {},
   "outputs": [
    {
     "name": "stderr",
     "output_type": "stream",
     "text": [
      "Rate limit reached. Sleeping for: 809\n"
     ]
    }
   ],
   "source": [
    "num_tweets = 5000\n",
    "query = tweepy.Cursor(twitter.search_tweets, q='#mentalhealth').items(num_tweets)\n",
    "tweets = [{'text': tweet.text} for tweet in query]\n",
    "df = pd.DataFrame(tweets)"
   ]
  },
  {
   "cell_type": "code",
   "execution_count": 6,
   "id": "b893bbf2",
   "metadata": {
    "scrolled": true
   },
   "outputs": [
    {
     "data": {
      "text/html": [
       "<div>\n",
       "<style scoped>\n",
       "    .dataframe tbody tr th:only-of-type {\n",
       "        vertical-align: middle;\n",
       "    }\n",
       "\n",
       "    .dataframe tbody tr th {\n",
       "        vertical-align: top;\n",
       "    }\n",
       "\n",
       "    .dataframe thead th {\n",
       "        text-align: right;\n",
       "    }\n",
       "</style>\n",
       "<table border=\"1\" class=\"dataframe\">\n",
       "  <thead>\n",
       "    <tr style=\"text-align: right;\">\n",
       "      <th></th>\n",
       "      <th>text</th>\n",
       "    </tr>\n",
       "  </thead>\n",
       "  <tbody>\n",
       "    <tr>\n",
       "      <th>0</th>\n",
       "      <td>RT @FundraiserDan: Keep reminding yourself thi...</td>\n",
       "    </tr>\n",
       "    <tr>\n",
       "      <th>1</th>\n",
       "      <td>#Fight #VeteransUnite #Veterans #VeteransAware...</td>\n",
       "    </tr>\n",
       "    <tr>\n",
       "      <th>2</th>\n",
       "      <td>You may say I'm a dreamer.. #Lennon\\n\\n#JoyTra...</td>\n",
       "    </tr>\n",
       "    <tr>\n",
       "      <th>3</th>\n",
       "      <td>Ready To Press DTF Transfer With GOD All Thing...</td>\n",
       "    </tr>\n",
       "    <tr>\n",
       "      <th>4</th>\n",
       "      <td>RT @OkeloJavan: Mental health is an important ...</td>\n",
       "    </tr>\n",
       "    <tr>\n",
       "      <th>...</th>\n",
       "      <td>...</td>\n",
       "    </tr>\n",
       "    <tr>\n",
       "      <th>4995</th>\n",
       "      <td>#mEntalhEalth #mindfulness #softness #meditati...</td>\n",
       "    </tr>\n",
       "    <tr>\n",
       "      <th>4996</th>\n",
       "      <td>Let’s talk about #mental #health with storyboo...</td>\n",
       "    </tr>\n",
       "    <tr>\n",
       "      <th>4997</th>\n",
       "      <td>RT @hemi_taylor: #icewaterbather  it’s the get...</td>\n",
       "    </tr>\n",
       "    <tr>\n",
       "      <th>4998</th>\n",
       "      <td>RT @LEAD_Coalition: Taking a break helps impro...</td>\n",
       "    </tr>\n",
       "    <tr>\n",
       "      <th>4999</th>\n",
       "      <td>RT @AvskVikas: ਗੁਰੂਸਿਆਗ ਸਿੱਧਯੋਗ\\nਮਾਨਵ ਮਾਤਰ ਦਾ ...</td>\n",
       "    </tr>\n",
       "  </tbody>\n",
       "</table>\n",
       "<p>5000 rows × 1 columns</p>\n",
       "</div>"
      ],
      "text/plain": [
       "                                                   text\n",
       "0     RT @FundraiserDan: Keep reminding yourself thi...\n",
       "1     #Fight #VeteransUnite #Veterans #VeteransAware...\n",
       "2     You may say I'm a dreamer.. #Lennon\\n\\n#JoyTra...\n",
       "3     Ready To Press DTF Transfer With GOD All Thing...\n",
       "4     RT @OkeloJavan: Mental health is an important ...\n",
       "...                                                 ...\n",
       "4995  #mEntalhEalth #mindfulness #softness #meditati...\n",
       "4996  Let’s talk about #mental #health with storyboo...\n",
       "4997  RT @hemi_taylor: #icewaterbather  it’s the get...\n",
       "4998  RT @LEAD_Coalition: Taking a break helps impro...\n",
       "4999  RT @AvskVikas: ਗੁਰੂਸਿਆਗ ਸਿੱਧਯੋਗ\\nਮਾਨਵ ਮਾਤਰ ਦਾ ...\n",
       "\n",
       "[5000 rows x 1 columns]"
      ]
     },
     "execution_count": 6,
     "metadata": {},
     "output_type": "execute_result"
    }
   ],
   "source": [
    "df"
   ]
  },
  {
   "cell_type": "code",
   "execution_count": 7,
   "id": "8a864b20",
   "metadata": {},
   "outputs": [],
   "source": [
    "pd.DataFrame.to_csv(df, 'data/mental_health_tweets.csv')"
   ]
  }
 ],
 "metadata": {
  "kernelspec": {
   "display_name": "Python 3 (ipykernel)",
   "language": "python",
   "name": "python3"
  },
  "language_info": {
   "codemirror_mode": {
    "name": "ipython",
    "version": 3
   },
   "file_extension": ".py",
   "mimetype": "text/x-python",
   "name": "python",
   "nbconvert_exporter": "python",
   "pygments_lexer": "ipython3",
   "version": "3.9.13"
  }
 },
 "nbformat": 4,
 "nbformat_minor": 5
}
