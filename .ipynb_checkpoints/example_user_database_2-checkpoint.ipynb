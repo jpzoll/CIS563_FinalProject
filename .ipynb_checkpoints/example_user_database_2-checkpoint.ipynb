{
 "cells": [
  {
   "cell_type": "markdown",
   "id": "af983212",
   "metadata": {},
   "source": [
    "# Two Tasks\n",
    "1. Sentiment Analyze an Account's AVERAGE FOLLOWER MOOD\n",
    "2. Sentiment Analyze an Account's mood\n",
    "\n",
    "**Combine these together into 1 User database/dataframe**"
   ]
  },
  {
   "cell_type": "code",
   "execution_count": 74,
   "id": "45bab454",
   "metadata": {},
   "outputs": [],
   "source": [
    "from Cookbook import *\n",
    "import pandas as pd\n",
    "import matplotlib.pyplot as plt"
   ]
  },
  {
   "cell_type": "code",
   "execution_count": 2,
   "id": "0b7ed740",
   "metadata": {},
   "outputs": [],
   "source": [
    "userList = ['EckhartTolle', 'JulienHimself', 'Headspace', 'realDonaldTrump']"
   ]
  },
  {
   "cell_type": "code",
   "execution_count": 40,
   "id": "007e53a1",
   "metadata": {},
   "outputs": [],
   "source": [
    "d = {\n",
    "    'user': [],\n",
    "    'mood': [],\n",
    "    'follower_mood': []\n",
    "}\n",
    "\n",
    "#df = pd.DataFrame.from_dict(d, orient='index').T"
   ]
  },
  {
   "cell_type": "code",
   "execution_count": 36,
   "id": "ab06d720",
   "metadata": {},
   "outputs": [
    {
     "data": {
      "text/plain": [
       "100"
      ]
     },
     "execution_count": 36,
     "metadata": {},
     "output_type": "execute_result"
    }
   ],
   "source": [
    "tweetss = twitter_api.get_user(screen_name='EckhartTolle').timeline(count=100)\n",
    "len(tweetss)"
   ]
  },
  {
   "cell_type": "code",
   "execution_count": 41,
   "id": "80e75365",
   "metadata": {},
   "outputs": [
    {
     "data": {
      "text/plain": [
       "0.13185842074592075"
      ]
     },
     "execution_count": 41,
     "metadata": {},
     "output_type": "execute_result"
    }
   ],
   "source": [
    "np.mean(list(map(lambda x: TextBlob(x).sentiment[0], [t.text for t in tweetss])))"
   ]
  },
  {
   "cell_type": "code",
   "execution_count": 42,
   "id": "a71078a8",
   "metadata": {},
   "outputs": [
    {
     "name": "stderr",
     "output_type": "stream",
     "text": [
      "Rate limit reached. Sleeping for: 407\n"
     ]
    }
   ],
   "source": [
    "for user in userList:\n",
    "    f_tweets = get_follower_tweets(user, 10)['tweet'].values\n",
    "    tweets = twitter_api.get_user(screen_name=user).timeline(count=100)\n",
    "    tweets = [t.text for t in tweets]\n",
    "\n",
    "    #mood = classify_sentiment(f_tweets[:6])\n",
    "    #follower_mood = classify_sentiment(tweets[:6])\n",
    "    mood = np.mean(list(map(lambda x: TextBlob(x).sentiment[0], tweets)))\n",
    "    follower_mood = np.mean(list(map(lambda x: TextBlob(x).sentiment[0], f_tweets)))\n",
    "\n",
    "    d['user'].append(user)\n",
    "    d['mood'].append(mood)\n",
    "    d['follower_mood'].append(follower_mood)"
   ]
  },
  {
   "cell_type": "code",
   "execution_count": 44,
   "id": "f33aa646",
   "metadata": {
    "scrolled": true
   },
   "outputs": [],
   "source": [
    "df = pd.DataFrame.from_dict(d)"
   ]
  },
  {
   "cell_type": "code",
   "execution_count": 45,
   "id": "c60a6a47",
   "metadata": {
    "scrolled": false
   },
   "outputs": [
    {
     "data": {
      "text/html": [
       "<div>\n",
       "<style scoped>\n",
       "    .dataframe tbody tr th:only-of-type {\n",
       "        vertical-align: middle;\n",
       "    }\n",
       "\n",
       "    .dataframe tbody tr th {\n",
       "        vertical-align: top;\n",
       "    }\n",
       "\n",
       "    .dataframe thead th {\n",
       "        text-align: right;\n",
       "    }\n",
       "</style>\n",
       "<table border=\"1\" class=\"dataframe\">\n",
       "  <thead>\n",
       "    <tr style=\"text-align: right;\">\n",
       "      <th></th>\n",
       "      <th>user</th>\n",
       "      <th>mood</th>\n",
       "      <th>follower_mood</th>\n",
       "    </tr>\n",
       "  </thead>\n",
       "  <tbody>\n",
       "    <tr>\n",
       "      <th>0</th>\n",
       "      <td>EckhartTolle</td>\n",
       "      <td>0.131858</td>\n",
       "      <td>0.124268</td>\n",
       "    </tr>\n",
       "    <tr>\n",
       "      <th>1</th>\n",
       "      <td>JulienHimself</td>\n",
       "      <td>0.195880</td>\n",
       "      <td>0.098589</td>\n",
       "    </tr>\n",
       "    <tr>\n",
       "      <th>2</th>\n",
       "      <td>Headspace</td>\n",
       "      <td>0.166107</td>\n",
       "      <td>0.315158</td>\n",
       "    </tr>\n",
       "    <tr>\n",
       "      <th>3</th>\n",
       "      <td>realDonaldTrump</td>\n",
       "      <td>0.092770</td>\n",
       "      <td>0.012059</td>\n",
       "    </tr>\n",
       "  </tbody>\n",
       "</table>\n",
       "</div>"
      ],
      "text/plain": [
       "              user      mood  follower_mood\n",
       "0     EckhartTolle  0.131858       0.124268\n",
       "1    JulienHimself  0.195880       0.098589\n",
       "2        Headspace  0.166107       0.315158\n",
       "3  realDonaldTrump  0.092770       0.012059"
      ]
     },
     "execution_count": 45,
     "metadata": {},
     "output_type": "execute_result"
    }
   ],
   "source": [
    "df"
   ]
  },
  {
   "cell_type": "code",
   "execution_count": 70,
   "id": "ceed7b96",
   "metadata": {},
   "outputs": [],
   "source": [
    "def create_tag(user):\n",
    "    if user == 'realDonaldTrump': return 'Politician'\n",
    "    else:\n",
    "        return 'Spirituality'"
   ]
  },
  {
   "cell_type": "code",
   "execution_count": 71,
   "id": "def0abaf",
   "metadata": {},
   "outputs": [],
   "source": [
    "df['tags'] = df['user'].apply(lambda x: create_tag(x))"
   ]
  },
  {
   "cell_type": "code",
   "execution_count": 75,
   "id": "448b440d",
   "metadata": {
    "scrolled": true
   },
   "outputs": [
    {
     "data": {
      "text/html": [
       "<div>\n",
       "<style scoped>\n",
       "    .dataframe tbody tr th:only-of-type {\n",
       "        vertical-align: middle;\n",
       "    }\n",
       "\n",
       "    .dataframe tbody tr th {\n",
       "        vertical-align: top;\n",
       "    }\n",
       "\n",
       "    .dataframe thead th {\n",
       "        text-align: right;\n",
       "    }\n",
       "</style>\n",
       "<table border=\"1\" class=\"dataframe\">\n",
       "  <thead>\n",
       "    <tr style=\"text-align: right;\">\n",
       "      <th></th>\n",
       "      <th>user</th>\n",
       "      <th>mood</th>\n",
       "      <th>follower_mood</th>\n",
       "      <th>tags</th>\n",
       "    </tr>\n",
       "  </thead>\n",
       "  <tbody>\n",
       "    <tr>\n",
       "      <th>0</th>\n",
       "      <td>EckhartTolle</td>\n",
       "      <td>0.131858</td>\n",
       "      <td>0.124268</td>\n",
       "      <td>Spirituality</td>\n",
       "    </tr>\n",
       "    <tr>\n",
       "      <th>1</th>\n",
       "      <td>JulienHimself</td>\n",
       "      <td>0.195880</td>\n",
       "      <td>0.098589</td>\n",
       "      <td>Spirituality</td>\n",
       "    </tr>\n",
       "    <tr>\n",
       "      <th>2</th>\n",
       "      <td>Headspace</td>\n",
       "      <td>0.166107</td>\n",
       "      <td>0.315158</td>\n",
       "      <td>Spirituality</td>\n",
       "    </tr>\n",
       "    <tr>\n",
       "      <th>3</th>\n",
       "      <td>realDonaldTrump</td>\n",
       "      <td>0.092770</td>\n",
       "      <td>0.012059</td>\n",
       "      <td>Politician</td>\n",
       "    </tr>\n",
       "  </tbody>\n",
       "</table>\n",
       "</div>"
      ],
      "text/plain": [
       "              user      mood  follower_mood          tags\n",
       "0     EckhartTolle  0.131858       0.124268  Spirituality\n",
       "1    JulienHimself  0.195880       0.098589  Spirituality\n",
       "2        Headspace  0.166107       0.315158  Spirituality\n",
       "3  realDonaldTrump  0.092770       0.012059    Politician"
      ]
     },
     "execution_count": 75,
     "metadata": {},
     "output_type": "execute_result"
    }
   ],
   "source": [
    "df"
   ]
  },
  {
   "cell_type": "code",
   "execution_count": 79,
   "id": "b1cc510a",
   "metadata": {},
   "outputs": [
    {
     "data": {
      "text/plain": [
       "<matplotlib.collections.PathCollection at 0x16bed1850>"
      ]
     },
     "execution_count": 79,
     "metadata": {},
     "output_type": "execute_result"
    },
    {
     "data": {
      "image/png": "[encoded data removed]",
      "text/plain": [
       "<Figure size 640x480 with 1 Axes>"
      ]
     },
     "metadata": {},
     "output_type": "display_data"
    }
   ],
   "source": [
    "colorings = {\n",
    "    \"Spirituality\": 'Green',\n",
    "    \"Politician\": 'Red'\n",
    "}\n",
    "\n",
    "plt.scatter(df['mood'], df['follower_mood'], color=[colorings[tag] for tag in df['tags']])"
   ]
  },
  {
   "cell_type": "code",
   "execution_count": null,
   "id": "f856d131",
   "metadata": {},
   "outputs": [],
   "source": []
  }
 ],
 "metadata": {
  "kernelspec": {
   "display_name": "Python 3 (ipykernel)",
   "language": "python",
   "name": "python3"
  },
  "language_info": {
   "codemirror_mode": {
    "name": "ipython",
    "version": 3
   },
   "file_extension": ".py",
   "mimetype": "text/x-python",
   "name": "python",
   "nbconvert_exporter": "python",
   "pygments_lexer": "ipython3",
   "version": "3.9.13"
  }
 },
 "nbformat": 4,
 "nbformat_minor": 5
}
