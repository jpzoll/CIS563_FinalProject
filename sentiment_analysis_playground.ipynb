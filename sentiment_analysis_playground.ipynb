{
 "cells": [
  {
   "cell_type": "code",
   "execution_count": 1,
   "id": "f57b0b16",
   "metadata": {},
   "outputs": [],
   "source": [
    "from Cookbook import sentiment_analyze"
   ]
  },
  {
   "cell_type": "code",
   "execution_count": 5,
   "id": "4159f834",
   "metadata": {
    "scrolled": true
   },
   "outputs": [
    {
     "name": "stdout",
     "output_type": "stream",
     "text": [
      "Tweet (Preprocessed): There is a ball on the table.\n",
      "Negative: 0.07251554727554321\n",
      "Neutral: 0.8338788747787476\n",
      "Positive: 0.09360556304454803\n"
     ]
    },
    {
     "data": {
      "text/plain": [
       "(['Negative', 'Neutral', 'Positive'],\n",
       " array([0.07251555, 0.8338789 , 0.09360556], dtype=float32))"
      ]
     },
     "execution_count": 5,
     "metadata": {},
     "output_type": "execute_result"
    }
   ],
   "source": [
    "sentiment_analyze('There is a ball on the table.')"
   ]
  },
  {
   "cell_type": "code",
   "execution_count": null,
   "id": "6b52d793",
   "metadata": {},
   "outputs": [],
   "source": []
  }
 ],
 "metadata": {
  "kernelspec": {
   "display_name": "Python 3 (ipykernel)",
   "language": "python",
   "name": "python3"
  },
  "language_info": {
   "codemirror_mode": {
    "name": "ipython",
    "version": 3
   },
   "file_extension": ".py",
   "mimetype": "text/x-python",
   "name": "python",
   "nbconvert_exporter": "python",
   "pygments_lexer": "ipython3",
   "version": "3.9.13"
  }
 },
 "nbformat": 4,
 "nbformat_minor": 5
}
