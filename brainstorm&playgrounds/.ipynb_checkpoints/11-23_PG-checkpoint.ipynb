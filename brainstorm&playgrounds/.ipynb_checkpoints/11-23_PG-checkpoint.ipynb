{
 "cells": [
  {
   "cell_type": "code",
   "execution_count": 1,
   "id": "184ed829",
   "metadata": {},
   "outputs": [],
   "source": [
    "from Cookbook import *"
   ]
  },
  {
   "cell_type": "code",
   "execution_count": 2,
   "id": "8217215b",
   "metadata": {
    "scrolled": true
   },
   "outputs": [],
   "source": [
    "df = get_follower_tweets('EckhartTolle', 25)"
   ]
  },
  {
   "cell_type": "code",
   "execution_count": 3,
   "id": "49059f6f",
   "metadata": {
    "scrolled": true
   },
   "outputs": [
    {
     "data": {
      "text/plain": [
       "'@NATO_Enthusiast @SpiritofHo Preemptive strikes are ok when the world kings do it (US) but it’s bad when they do it… https://t.co/jnvMdtehY'"
      ]
     },
     "execution_count": 3,
     "metadata": {},
     "output_type": "execute_result"
    }
   ],
   "source": [
    "t = df.iloc[2]['tweet']\n",
    "t = t.strip('RT ')\n",
    "t"
   ]
  },
  {
   "cell_type": "code",
   "execution_count": 4,
   "id": "1dddc182",
   "metadata": {},
   "outputs": [
    {
     "data": {
      "text/html": [
       "<div>\n",
       "<style scoped>\n",
       "    .dataframe tbody tr th:only-of-type {\n",
       "        vertical-align: middle;\n",
       "    }\n",
       "\n",
       "    .dataframe tbody tr th {\n",
       "        vertical-align: top;\n",
       "    }\n",
       "\n",
       "    .dataframe thead th {\n",
       "        text-align: right;\n",
       "    }\n",
       "</style>\n",
       "<table border=\"1\" class=\"dataframe\">\n",
       "  <thead>\n",
       "    <tr style=\"text-align: right;\">\n",
       "      <th></th>\n",
       "      <th>user</th>\n",
       "      <th>tweet</th>\n",
       "      <th>source</th>\n",
       "    </tr>\n",
       "  </thead>\n",
       "  <tbody>\n",
       "    <tr>\n",
       "      <th>0</th>\n",
       "      <td>Paul38280726</td>\n",
       "      <td>@EckhartTolle Sincere question: Do you think M...</td>\n",
       "      <td>Twitter for iPhone</td>\n",
       "    </tr>\n",
       "    <tr>\n",
       "      <th>1</th>\n",
       "      <td>Paul38280726</td>\n",
       "      <td>@KolisnykTheresa @SpiritofHo Yes history is re...</td>\n",
       "      <td>Twitter for iPhone</td>\n",
       "    </tr>\n",
       "    <tr>\n",
       "      <th>2</th>\n",
       "      <td>Paul38280726</td>\n",
       "      <td>@NATO_Enthusiast @SpiritofHo Preemptive strike...</td>\n",
       "      <td>Twitter for iPhone</td>\n",
       "    </tr>\n",
       "    <tr>\n",
       "      <th>3</th>\n",
       "      <td>Paul38280726</td>\n",
       "      <td>@SpiritofHo I know you have a show and I love ...</td>\n",
       "      <td>Twitter for iPhone</td>\n",
       "    </tr>\n",
       "    <tr>\n",
       "      <th>4</th>\n",
       "      <td>Paul38280726</td>\n",
       "      <td>RT @SpiritofHo: Ukraine has exposed what most ...</td>\n",
       "      <td>Twitter for iPhone</td>\n",
       "    </tr>\n",
       "    <tr>\n",
       "      <th>...</th>\n",
       "      <td>...</td>\n",
       "      <td>...</td>\n",
       "      <td>...</td>\n",
       "    </tr>\n",
       "    <tr>\n",
       "      <th>242</th>\n",
       "      <td>travtrn</td>\n",
       "      <td>@veritasnaut Is this a joke? How bout when ani...</td>\n",
       "      <td>Twitter for iPhone</td>\n",
       "    </tr>\n",
       "    <tr>\n",
       "      <th>243</th>\n",
       "      <td>travtrn</td>\n",
       "      <td>@tddaygame Kids lol</td>\n",
       "      <td>Twitter for iPhone</td>\n",
       "    </tr>\n",
       "    <tr>\n",
       "      <th>244</th>\n",
       "      <td>travtrn</td>\n",
       "      <td>@AMErikaNGIRLLL Hahaha</td>\n",
       "      <td>Twitter for iPhone</td>\n",
       "    </tr>\n",
       "    <tr>\n",
       "      <th>245</th>\n",
       "      <td>travtrn</td>\n",
       "      <td>@Cakeinacrisis_ There is no mercy without just...</td>\n",
       "      <td>Twitter for iPhone</td>\n",
       "    </tr>\n",
       "    <tr>\n",
       "      <th>246</th>\n",
       "      <td>travtrn</td>\n",
       "      <td>@JoeBiden This man is a miracle. Imagine him s...</td>\n",
       "      <td>Twitter for iPhone</td>\n",
       "    </tr>\n",
       "  </tbody>\n",
       "</table>\n",
       "<p>247 rows × 3 columns</p>\n",
       "</div>"
      ],
      "text/plain": [
       "             user                                              tweet  \\\n",
       "0    Paul38280726  @EckhartTolle Sincere question: Do you think M...   \n",
       "1    Paul38280726  @KolisnykTheresa @SpiritofHo Yes history is re...   \n",
       "2    Paul38280726  @NATO_Enthusiast @SpiritofHo Preemptive strike...   \n",
       "3    Paul38280726  @SpiritofHo I know you have a show and I love ...   \n",
       "4    Paul38280726  RT @SpiritofHo: Ukraine has exposed what most ...   \n",
       "..            ...                                                ...   \n",
       "242       travtrn  @veritasnaut Is this a joke? How bout when ani...   \n",
       "243       travtrn                                @tddaygame Kids lol   \n",
       "244       travtrn                             @AMErikaNGIRLLL Hahaha   \n",
       "245       travtrn  @Cakeinacrisis_ There is no mercy without just...   \n",
       "246       travtrn  @JoeBiden This man is a miracle. Imagine him s...   \n",
       "\n",
       "                 source  \n",
       "0    Twitter for iPhone  \n",
       "1    Twitter for iPhone  \n",
       "2    Twitter for iPhone  \n",
       "3    Twitter for iPhone  \n",
       "4    Twitter for iPhone  \n",
       "..                  ...  \n",
       "242  Twitter for iPhone  \n",
       "243  Twitter for iPhone  \n",
       "244  Twitter for iPhone  \n",
       "245  Twitter for iPhone  \n",
       "246  Twitter for iPhone  \n",
       "\n",
       "[247 rows x 3 columns]"
      ]
     },
     "execution_count": 4,
     "metadata": {},
     "output_type": "execute_result"
    }
   ],
   "source": [
    "df"
   ]
  },
  {
   "cell_type": "code",
   "execution_count": 5,
   "id": "13996f03",
   "metadata": {
    "scrolled": false
   },
   "outputs": [
    {
     "name": "stdout",
     "output_type": "stream",
     "text": [
      "Tweet (Preprocessed): @user @user Preemptive strikes are ok when the world kings do it (US) but it’s bad when they do it… https://t.co/jnvMdtehY\n",
      "Negative: 0.7146767377853394\n",
      "Neutral: 0.2623319625854492\n",
      "Positive: 0.022991392761468887\n"
     ]
    }
   ],
   "source": [
    "labels, scores = sentiment_analyze(t)"
   ]
  },
  {
   "cell_type": "code",
   "execution_count": 6,
   "id": "d97f6c5a",
   "metadata": {},
   "outputs": [
    {
     "name": "stdout",
     "output_type": "stream",
     "text": [
      "“The basis for true change is freedom from negativity. And that's what acceptance implies: no negativity about what… https://t.co/v5tHigCSrD\n"
     ]
    }
   ],
   "source": [
    "eckhart = twitter_api.get_user(screen_name='EckhartTolle')\n",
    "for t in eckhart.timeline():\n",
    "    print(t.text)\n",
    "    break"
   ]
  },
  {
   "cell_type": "code",
   "execution_count": 7,
   "id": "d3b473cc",
   "metadata": {},
   "outputs": [
    {
     "data": {
      "text/plain": [
       "['__class__',\n",
       " '__delattr__',\n",
       " '__dict__',\n",
       " '__dir__',\n",
       " '__doc__',\n",
       " '__eq__',\n",
       " '__format__',\n",
       " '__ge__',\n",
       " '__getattribute__',\n",
       " '__getstate__',\n",
       " '__gt__',\n",
       " '__hash__',\n",
       " '__init__',\n",
       " '__init_subclass__',\n",
       " '__le__',\n",
       " '__lt__',\n",
       " '__module__',\n",
       " '__ne__',\n",
       " '__new__',\n",
       " '__reduce__',\n",
       " '__reduce_ex__',\n",
       " '__repr__',\n",
       " '__setattr__',\n",
       " '__sizeof__',\n",
       " '__slots__',\n",
       " '__str__',\n",
       " '__subclasshook__',\n",
       " '__weakref__',\n",
       " '_api',\n",
       " '_json',\n",
       " 'contributors_enabled',\n",
       " 'created_at',\n",
       " 'default_profile',\n",
       " 'default_profile_image',\n",
       " 'description',\n",
       " 'entities',\n",
       " 'favourites_count',\n",
       " 'follow',\n",
       " 'follow_request_sent',\n",
       " 'follower_ids',\n",
       " 'followers',\n",
       " 'followers_count',\n",
       " 'following',\n",
       " 'friends',\n",
       " 'friends_count',\n",
       " 'geo_enabled',\n",
       " 'has_extended_profile',\n",
       " 'id',\n",
       " 'id_str',\n",
       " 'is_translation_enabled',\n",
       " 'is_translator',\n",
       " 'lang',\n",
       " 'list_memberships',\n",
       " 'list_ownerships',\n",
       " 'list_subscriptions',\n",
       " 'listed_count',\n",
       " 'lists',\n",
       " 'location',\n",
       " 'name',\n",
       " 'notifications',\n",
       " 'parse',\n",
       " 'parse_list',\n",
       " 'profile_background_color',\n",
       " 'profile_background_image_url',\n",
       " 'profile_background_image_url_https',\n",
       " 'profile_background_tile',\n",
       " 'profile_banner_url',\n",
       " 'profile_image_url',\n",
       " 'profile_image_url_https',\n",
       " 'profile_link_color',\n",
       " 'profile_location',\n",
       " 'profile_sidebar_border_color',\n",
       " 'profile_sidebar_fill_color',\n",
       " 'profile_text_color',\n",
       " 'profile_use_background_image',\n",
       " 'protected',\n",
       " 'screen_name',\n",
       " 'status',\n",
       " 'statuses_count',\n",
       " 'time_zone',\n",
       " 'timeline',\n",
       " 'translator_type',\n",
       " 'unfollow',\n",
       " 'url',\n",
       " 'utc_offset',\n",
       " 'verified',\n",
       " 'withheld_in_countries']"
      ]
     },
     "execution_count": 7,
     "metadata": {},
     "output_type": "execute_result"
    }
   ],
   "source": [
    "dir(eckhart)"
   ]
  }
 ],
 "metadata": {
  "kernelspec": {
   "display_name": "Python 3 (ipykernel)",
   "language": "python",
   "name": "python3"
  },
  "language_info": {
   "codemirror_mode": {
    "name": "ipython",
    "version": 3
   },
   "file_extension": ".py",
   "mimetype": "text/x-python",
   "name": "python",
   "nbconvert_exporter": "python",
   "pygments_lexer": "ipython3",
   "version": "3.9.13"
  }
 },
 "nbformat": 4,
 "nbformat_minor": 5
}
